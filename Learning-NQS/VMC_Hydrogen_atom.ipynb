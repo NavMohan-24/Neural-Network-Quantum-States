{
 "cells": [
  {
   "cell_type": "markdown",
   "metadata": {},
   "source": [
    "Variational Monte Carlo is a method to evaluate the integral $$\\frac{ \\int |\\Psi(R)|^2 O(R) dR}{\\int |\\Psi(R)|^2} dR. $$\n",
    "\n",
    "The integral calculates the expectation value of the operator $O(R)$.\n",
    "\n",
    "To evaluate it we use the Markov Chain Monte Carlo.\n",
    "\n",
    "* ` Step-1`: Choose a new trail location for the particles.\n",
    "* `Step-2`: Evaluate the ratio squared of the wavefunctions for the new and old trail wavefunctions.\n",
    "* `Step-3`: If the ratio squared is greater than some random number, we keep the new trail location, otherwise keep the old trail location.\n"
   ]
  },
  {
   "cell_type": "markdown",
   "metadata": {
    "vscode": {
     "languageId": "plaintext"
    }
   },
   "source": [
    "Hydrogen molecule has only two electrons (one spin up and one spin down), we need not be concerned with computing determinants. We will be optimizing two very simple trial wave functions $\\Psi_1$ and $\\Psi_2$. \n",
    "\n",
    "Let our molecule be centered at the origin with protons at $\\pm L/2 \\hat{x}$."
   ]
  },
  {
   "cell_type": "code",
   "execution_count": 1,
   "metadata": {},
   "outputs": [],
   "source": [
    "import numpy as np\n",
    "import matplotlib.pyplot as plt\n",
    "import stats"
   ]
  },
  {
   "cell_type": "markdown",
   "metadata": {},
   "source": [
    "## Building the Wavefunction"
   ]
  },
  {
   "cell_type": "markdown",
   "metadata": {
    "vscode": {
     "languageId": "plaintext"
    }
   },
   "source": [
    "The first trial function is a simple bond-centered Gaussian with width controlled by the parameter $\\alpha$, $\\Psi(r_1,r_2;\\alpha)=\\exp[-\\alpha(|r_1|^2+|r_2|^2)]$ where $\\alpha$ is to be optimized variationally.\n",
    "\n",
    "where $r_1$ and $r_2$ denotes position of electron 1 and 2 respectively."
   ]
  },
  {
   "cell_type": "code",
   "execution_count": 2,
   "metadata": {},
   "outputs": [],
   "source": [
    "def psi(coords,ions,alpha=0.5): \n",
    "    '''\n",
    "    coord : Numpy 2D array denoting position of electrons\n",
    "    ions : Numpy 2D array denoting position of proton/nucleus\n",
    "    alpha : Variational parameter that is arbitrarly set to 0.5\n",
    "    '''\n",
    "\n",
    "    r1 = np.linalg.norm(coords[0])**2\n",
    "    r2 = np.linalg.norm(coords[1])**2\n",
    "\n",
    "    wavefn = np.exp(-1*alpha*(r1+r2))\n",
    "\n",
    "    return wavefn\n",
    "    \n"
   ]
  },
  {
   "cell_type": "code",
   "execution_count": 3,
   "metadata": {},
   "outputs": [
    {
     "name": "stdout",
     "output_type": "stream",
     "text": [
      "Wavefunction Test passed\n"
     ]
    }
   ],
   "source": [
    "## Testing Trail wavefunction\n",
    "\n",
    "def WaveFunction1_test1(wavefunction):\n",
    "   coords=np.array([[1.0,0.5,0.3],[-0.2,0.1,-0.1]])\n",
    "   ions=np.array([[0.7,0.0,0.0],[-0.7,0.0,0.0]])\n",
    "   if np.abs(wavefunction(coords,ions)-0.496585)<1e-5:\n",
    "      return True\n",
    "   else:\n",
    "      return False\n",
    "\n",
    "if WaveFunction1_test1(psi):\n",
    "   print(\"Wavefunction Test passed\")\n",
    "else:\n",
    "   print(\"Wavefunction Test Failed\")"
   ]
  },
  {
   "cell_type": "code",
   "execution_count": 4,
   "metadata": {},
   "outputs": [],
   "source": [
    "coords=np.array([[1.0,0.5,0.3],[-0.2,0.1,-0.1]])\n",
    "ions=np.array([[0.7,0.0,0.0],[-0.7,0.0,0.0]])"
   ]
  },
  {
   "cell_type": "code",
   "execution_count": 5,
   "metadata": {},
   "outputs": [
    {
     "data": {
      "text/plain": [
       "0.4965853037914094"
      ]
     },
     "execution_count": 5,
     "metadata": {},
     "output_type": "execute_result"
    }
   ],
   "source": [
    "psi(coords,ions)"
   ]
  },
  {
   "cell_type": "markdown",
   "metadata": {},
   "source": [
    "## Building a Monte Carlo Code"
   ]
  },
  {
   "cell_type": "markdown",
   "metadata": {
    "vscode": {
     "languageId": "raw"
    }
   },
   "source": [
    "The next step in producing Monte Carlo code is finding a way to move particles. One approach which is may not be efficient is to move particles in small box around their current position."
   ]
  },
  {
   "cell_type": "code",
   "execution_count": 6,
   "metadata": {},
   "outputs": [],
   "source": [
    "def VMC(WF,ions, numSteps:int=1000,box_length:float=1.5):\n",
    "    coords = np.zeros((2,3),float) # initializing the position of electrons\n",
    "    movesAttempted = 0.0\n",
    "    movesAccepted = 0.0\n",
    "    # electrons are moved in a space defined box defined by the box_length\n",
    "\n",
    "    for steps in range(numSteps):\n",
    "        for ptcl in range(len(coords)):\n",
    "            movesAttempted+=1\n",
    "            shift = np.random.uniform(-box_length/2,box_length/2,3)\n",
    "            new_coords = coords+shift\n",
    "            WF_new = WF(new_coords,ions)\n",
    "            WF_old = WF(coords,ions)\n",
    "            r = (WF_new/WF_old)**2\n",
    "            \n",
    "\n",
    "            if r>np.random.rand():\n",
    "                movesAccepted+=1\n",
    "                coords = new_coords\n",
    "            else:\n",
    "                pass\n",
    "    # Compute and print the acceptance ratio\n",
    "    acceptance_ratio = movesAccepted / movesAttempted\n",
    "    print(\"Acceptance ratio: \", acceptance_ratio)\n",
    "    return acceptance_ratio"
   ]
  },
  {
   "cell_type": "code",
   "execution_count": 7,
   "metadata": {},
   "outputs": [
    {
     "name": "stdout",
     "output_type": "stream",
     "text": [
      "Acceptance ratio:  0.4815\n"
     ]
    }
   ],
   "source": [
    "## Testing\n",
    "coords=np.array([[1.0,0.5,0.3],[-0.2,0.1,-0.1]])\n",
    "ions=np.array([[-0.7,0.0,0.0],[0.7,0.0,0.0]])\n",
    "\n",
    "r = VMC(psi,ions)"
   ]
  },
  {
   "cell_type": "markdown",
   "metadata": {},
   "source": [
    "## Computing the Local Energy"
   ]
  },
  {
   "cell_type": "markdown",
   "metadata": {},
   "source": [
    "The average energy of the system is defined as:\n",
    "\n",
    "$$\\langle H\\Psi / \\Psi \\rangle \\equiv \\langle E_L \\rangle$$\n",
    "\n",
    "where $E_L$ is called the Local Energy and $$\\frac{H\\Psi}{\\Psi} = \\frac{(-\\nabla^2/2 + V)\\Psi}{\\Psi}$$.\n",
    "\n",
    "The term $(V\\Psi)/\\Psi$ reduces to $$V(r)=-\\sum_{Ie} \\frac{1}{r_{Ie}} + \\sum_{ee} \\frac{1}{r_{ee}}+\\sum_{II}\\frac{1}{r_{II}}$$ for system of electrons and ions. In real code, we would want to have analytic derivatives for the $\\nabla^2 \\Psi / \\Psi$ term, we compute it with finite differences in this tutorial.\n",
    "\n",
    "Remember that $$\\frac{\\partial^2 F}{\\partial x^2} \\approx \\frac{F(x+\\delta)+F(x-\\delta)-2F(x)}{\\delta^2}$$. Further, the Hamiltonian is represented in natural units."
   ]
  },
  {
   "cell_type": "code",
   "execution_count": 8,
   "metadata": {},
   "outputs": [],
   "source": [
    "def LaplacianPsiOverPsi(wavefunction,coords,ions):\n",
    "    delta = 0.001\n",
    "\n",
    "    delta_xyz = delta * np.eye(3)\n",
    "    del2xyz = np.zeros(3,float)\n",
    "    # finding the laplacian\n",
    "    for i in range(3):\n",
    "        cp = coords+delta_xyz[i]\n",
    "        cm = coords-delta_xyz[i]\n",
    "        del2xyz[i] = (wavefunction(cp,ions) + wavefunction(cm,ions) - 2*wavefunction(coords,ions))/delta**2\n",
    "    \n",
    "    return(-0.5*sum(del2xyz))\n",
    "\n",
    "def LocalEnergy(wavefunction,coords,ions):\n",
    "    # calculating rie\n",
    "    diff_coords = coords[:,np.newaxis,:] - ions[np.newaxis,:,:]\n",
    "    distance_matrix = np.linalg.norm(diff_coords, axis=-1)\n",
    "    rie = distance_matrix.reshape(1,distance_matrix.size)[0]\n",
    "\n",
    "    \n",
    "    # calculating ree\n",
    "    diff_coords = coords[:,np.newaxis,:] - coords[np.newaxis,:,:]\n",
    "    distance_matrix = np.linalg.norm(diff_coords, axis=-1)\n",
    "    # Extract the upper triangular elements, excluding the diagonal\n",
    "    upper_tri_indices = np.triu_indices_from(distance_matrix, k=1)\n",
    "    ree = distance_matrix[upper_tri_indices]\n",
    "\n",
    "    # calculating rii\n",
    "    diff_ions = ions[:,np.newaxis,:] - ions[np.newaxis,:,:]\n",
    "    distance_matrix = np.linalg.norm(diff_ions, axis=-1)\n",
    "    # Extract the upper triangular elements, excluding the diagonal\n",
    "    upper_tri_indices = np.triu_indices_from(distance_matrix, k=1)\n",
    "    rii = distance_matrix[upper_tri_indices]\n",
    "\n",
    "    v = -1*sum(1/rie)+sum(1/ree)+sum(1/rii)\n",
    "    #print('potential_enegy =',v)\n",
    "    del2 = LaplacianPsiOverPsi(wavefunction,coords,ions)\n",
    "    #print('kinetic_energy =',del2)\n",
    "\n",
    "    El = (del2/wavefunction(coords,ions))+v\n",
    "    return v,El"
   ]
  },
  {
   "cell_type": "code",
   "execution_count": 9,
   "metadata": {},
   "outputs": [
    {
     "data": {
      "text/plain": [
       "(-2.229490759385763, -3.7794910847005374)"
      ]
     },
     "execution_count": 9,
     "metadata": {},
     "output_type": "execute_result"
    }
   ],
   "source": [
    "ions=np.array([[0.7,0.0,0.0],[-0.7,0.0,0.0]])\n",
    "\n",
    "R=np.zeros((2,3),float)\n",
    "R[0]=[1.0,0.3,0.2]\n",
    "R[1]=[2.0,-0.2,0.1]\n",
    "\n",
    "LocalEnergy(psi,R,ions)"
   ]
  },
  {
   "cell_type": "code",
   "execution_count": 10,
   "metadata": {},
   "outputs": [],
   "source": [
    "def VMC(WF,ions,initial_coords,numSteps:int=10000,box_length:float=1.5):\n",
    "\n",
    "    coords = initial_coords\n",
    "\n",
    "    movesAttempted = 0.0\n",
    "    movesAccepted = 0.0\n",
    "    # electrons are moved in a space defined box defined by the box_length\n",
    "    local_energy = np.array([])\n",
    "\n",
    "    for steps in range(numSteps):\n",
    "        for ptcl in range(len(coords)):\n",
    "            movesAttempted+=1\n",
    "            shift = np.random.uniform(-box_length/2,box_length/2,3)\n",
    "            new_coords = coords+shift\n",
    "            WF_new = WF(new_coords,ions)\n",
    "            WF_old = WF(coords,ions)\n",
    "            r = (WF_new/WF_old)**2\n",
    "            \n",
    "\n",
    "            if r>np.random.rand():\n",
    "                movesAccepted+=1\n",
    "                coords = new_coords\n",
    "                local_energy = np.append(local_energy,LocalEnergy(WF,coords,ions))\n",
    "            else:\n",
    "                pass\n",
    "            \n",
    "    # Compute and print the acceptance ratio\n",
    "    acceptance_ratio = movesAccepted / movesAttempted\n",
    "    print(\"Acceptance ratio: \", acceptance_ratio)\n",
    "    return acceptance_ratio, local_energy"
   ]
  },
  {
   "cell_type": "code",
   "execution_count": 11,
   "metadata": {},
   "outputs": [
    {
     "name": "stdout",
     "output_type": "stream",
     "text": [
      "Acceptance ratio:  0.4782\n",
      "19128\n"
     ]
    }
   ],
   "source": [
    "ions=np.array([[0.7,0.0,0.0],[-0.7,0.0,0.0]])\n",
    "R=np.zeros((2,3),float)\n",
    "R[0]=[1.0,0.3,0.2]\n",
    "R[1]=[2.0,-0.2,0.1]\n",
    "r,e=VMC(psi,ions,initial_coords=R)\n",
    "print(len(e))"
   ]
  },
  {
   "cell_type": "code",
   "execution_count": 12,
   "metadata": {},
   "outputs": [
    {
     "data": {
      "text/plain": [
       "Text(0, 0.5, 'Local Energy (Hartrees)')"
      ]
     },
     "execution_count": 12,
     "metadata": {},
     "output_type": "execute_result"
    },
    {
     "data": {
      "image/png": "[encoded data removed]",
      "text/plain": [
       "<Figure size 640x480 with 1 Axes>"
      ]
     },
     "metadata": {},
     "output_type": "display_data"
    }
   ],
   "source": [
    "plt.plot(range(0,len(e)),e)\n",
    "plt.xlabel('number of iterations')\n",
    "plt.ylabel('Local Energy (Hartrees)')"
   ]
  },
  {
   "cell_type": "code",
   "execution_count": 13,
   "metadata": {},
   "outputs": [
    {
     "data": {
      "text/plain": [
       "(-2.181841575037282,\n",
       " 2.904548616637003,\n",
       " 0.016885614315971093,\n",
       " 1.8776932438842964)"
      ]
     },
     "execution_count": 13,
     "metadata": {},
     "output_type": "execute_result"
    }
   ],
   "source": [
    "stats.Stats(e)"
   ]
  },
  {
   "cell_type": "code",
   "execution_count": 14,
   "metadata": {},
   "outputs": [],
   "source": [
    "# VMC class\n",
    "\n",
    "import numpy as np\n",
    "import matplotlib.pyplot as plt\n",
    "import stats\n",
    "\n",
    "class WaveFunctionClass:\n",
    "\n",
    "    def SetIons(self,ions):\n",
    "        self.ions = ions\n",
    "    \n",
    "    def SetAlpha(self,alpha):\n",
    "        self.alpha = alpha\n",
    "\n",
    "    def wavefunction(self, coords,ions,alpha=0.5): \n",
    "        '''coords : Numpy 2D array denoting position of electrons\n",
    "        ions : Numpy 2D array denoting position of proton/nucleus\n",
    "        alpha : Variational parameter that is arbitrarly set to 0.5\n",
    "        '''\n",
    "        if ions.any() == None:\n",
    "            ions = self.ions\n",
    "        if not alpha:\n",
    "            alpha = self.alpha\n",
    "\n",
    "        r1 = np.linalg.norm(coords[0])**2\n",
    "        r2 = np.linalg.norm(coords[1])**2\n",
    "\n",
    "        wavefn = np.exp(-1*alpha*(r1+r2))\n",
    "\n",
    "        return wavefn\n",
    "    \n",
    "    def LaplacianPsiOverPsi(self,coords):\n",
    "        '''\n",
    "        wavefunction : trail wavefunction\n",
    "        coords : Numpy 2D array denoting position of electrons\n",
    "        ions : Numpy 2D array denoting position of proton/nucleus\n",
    "        '''\n",
    "        delta = 0.001\n",
    "\n",
    "        delta_xyz = delta * np.eye(3)\n",
    "        del2xyz = np.zeros(3,float)\n",
    "        # finding the laplacian\n",
    "        for i in range(3):\n",
    "            cp = coords+delta_xyz[i]\n",
    "            cm = coords-delta_xyz[i]\n",
    "            del2xyz[i] = (self.wavefunction(cp,ions) + self.wavefunction(cm,ions) - 2*self.wavefunction(coords,ions))/delta**2\n",
    "        \n",
    "        return(-0.5*sum(del2xyz))\n",
    "\n",
    "    def LocalEnergy(self,coords):\n",
    "        \n",
    "        '''\n",
    "        wavefunction : trail wavefunction\n",
    "        coords : Numpy 2D array denoting position of electrons\n",
    "        ions : Numpy 2D array denoting position of proton/nucleus\n",
    "        '''\n",
    "        # calculating rie\n",
    "        diff_coords = coords[:,np.newaxis,:] - ions[np.newaxis,:,:]\n",
    "        distance_matrix = np.linalg.norm(diff_coords, axis=-1)\n",
    "        rie = distance_matrix.reshape(1,distance_matrix.size)[0]\n",
    "\n",
    "        \n",
    "        # calculating ree\n",
    "        diff_coords = coords[:,np.newaxis,:] - coords[np.newaxis,:,:]\n",
    "        distance_matrix = np.linalg.norm(diff_coords, axis=-1)\n",
    "        # Extract the upper triangular elements, excluding the diagonal\n",
    "        upper_tri_indices = np.triu_indices_from(distance_matrix, k=1)\n",
    "        ree = distance_matrix[upper_tri_indices]\n",
    "\n",
    "        # calculating rii\n",
    "        diff_ions = ions[:,np.newaxis,:] - ions[np.newaxis,:,:]\n",
    "        distance_matrix = np.linalg.norm(diff_ions, axis=-1)\n",
    "        # Extract the upper triangular elements, excluding the diagonal\n",
    "        upper_tri_indices = np.triu_indices_from(distance_matrix, k=1)\n",
    "        rii = distance_matrix[upper_tri_indices]\n",
    "\n",
    "        v = -1*sum(1/rie)+sum(1/ree)+sum(1/rii)\n",
    "        del2 = self.LaplacianPsiOverPsi(coords)\n",
    "\n",
    "        local_energy = (del2/self.wavefunction(coords,ions))+v\n",
    "        return local_energy\n",
    "    \n",
    "    def VMC(self,coords,numSteps:int=10000,box_length:float=1.5):\n",
    "\n",
    "        movesAttempted = 0.0\n",
    "        movesAccepted = 0.0\n",
    "        # electrons are moved in a space defined box defined by the box_length\n",
    "        local_energy = np.array([])\n",
    "\n",
    "        for steps in range(numSteps):\n",
    "            for ptcl in range(len(coords)):\n",
    "                movesAttempted+=1\n",
    "                shift = np.random.uniform(-box_length/2,box_length/2,3)\n",
    "                new_coords = coords+shift\n",
    "                WF_new = self.wavefunction(new_coords,ions)\n",
    "                WF_old = self.wavefunction(coords,ions)\n",
    "                r = (WF_new/WF_old)**2\n",
    "                \n",
    "\n",
    "                if r>np.random.rand():\n",
    "                    movesAccepted+=1\n",
    "                    coords = new_coords\n",
    "                    local_energy = np.append(local_energy,self.LocalEnergy(coords))\n",
    "                else:\n",
    "                    pass\n",
    "                \n",
    "        # Compute and print the acceptance ratio\n",
    "        acceptance_ratio = movesAccepted / movesAttempted\n",
    "        #print(\"Acceptance ratio: \", acceptance_ratio)\n",
    "        return acceptance_ratio, local_energy, stats.Stats(local_energy)\n",
    "\n",
    "    \n"
   ]
  },
  {
   "cell_type": "code",
   "execution_count": 15,
   "metadata": {},
   "outputs": [],
   "source": [
    "psi = WaveFunctionClass()\n",
    "psi.SetAlpha(0.5)\n",
    "psi.SetIons(np.array([[0.7,0.0,0.0],[-0.7,0.0,0.0]])) \n"
   ]
  },
  {
   "cell_type": "code",
   "execution_count": 16,
   "metadata": {},
   "outputs": [],
   "source": [
    "acceptance_ratio, local_energy, stats = psi.VMC(R)"
   ]
  },
  {
   "cell_type": "code",
   "execution_count": 17,
   "metadata": {},
   "outputs": [
    {
     "data": {
      "text/plain": [
       "(-1.464389864448418,\n",
       " 1.6154462546864976,\n",
       " 0.015760190471183357,\n",
       " 1.4672878921956947)"
      ]
     },
     "execution_count": 17,
     "metadata": {},
     "output_type": "execute_result"
    }
   ],
   "source": [
    "stats"
   ]
  },
  {
   "cell_type": "code",
   "execution_count": 18,
   "metadata": {},
   "outputs": [
    {
     "data": {
      "text/plain": [
       "Text(0, 0.5, 'Local Energy (Hartrees)')"
      ]
     },
     "execution_count": 18,
     "metadata": {},
     "output_type": "execute_result"
    },
    {
     "data": {
      "image/png": "[encoded data removed]",
      "text/plain": [
       "<Figure size 640x480 with 1 Axes>"
      ]
     },
     "metadata": {},
     "output_type": "display_data"
    }
   ],
   "source": [
    "plt.plot(range(0,len(local_energy)),local_energy)\n",
    "plt.xlabel('number of iterations')\n",
    "plt.ylabel('Local Energy (Hartrees)')"
   ]
  },
  {
   "cell_type": "code",
   "execution_count": 19,
   "metadata": {},
   "outputs": [
    {
     "data": {
      "text/plain": [
       "-3.7794910847005374"
      ]
     },
     "execution_count": 19,
     "metadata": {},
     "output_type": "execute_result"
    }
   ],
   "source": [
    "psi.LocalEnergy(R)"
   ]
  },
  {
   "cell_type": "markdown",
   "metadata": {},
   "source": [
    "## Reference \n",
    "\n",
    "- [VMC Tutorial by Bryan Clark](https://clark.physics.illinois.edu/Tutorials/VMCIntroTutorial/index.html)"
   ]
  },
  {
   "cell_type": "markdown",
   "metadata": {},
   "source": [
    "#### Problems with the code\n",
    "- the acceptance_ratio got is greater than the value given in the tutorial\n",
    "- The local local_energy calculated is greater than the value given in the tutorial"
   ]
  }
 ],
 "metadata": {
  "kernelspec": {
   "display_name": "nqs",
   "language": "python",
   "name": "python3"
  },
  "language_info": {
   "codemirror_mode": {
    "name": "ipython",
    "version": 3
   },
   "file_extension": ".py",
   "mimetype": "text/x-python",
   "name": "python",
   "nbconvert_exporter": "python",
   "pygments_lexer": "ipython3",
   "version": "3.11.7"
  }
 },
 "nbformat": 4,
 "nbformat_minor": 2
}
