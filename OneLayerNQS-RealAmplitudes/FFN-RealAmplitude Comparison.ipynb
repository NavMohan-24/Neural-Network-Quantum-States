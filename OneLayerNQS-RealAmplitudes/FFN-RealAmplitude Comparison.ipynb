{
 "cells": [
  {
   "cell_type": "markdown",
   "metadata": {},
   "source": [
    "**Table of contents**<a id='toc0_'></a>    \n",
    "- [Defining TFI model and Exact Energy Calculations](#toc1_1_)    \n",
    "- [Performance analysis of Feed Forward Neural Network Quantum States](#toc2_)    \n",
    "  - [Antiferromagnetic model](#toc2_1_)    \n",
    "  - [Ferromagnetic Models](#toc2_2_)    \n",
    "- [Variational Quantum Algorithms](#toc3_)    \n",
    "  - [Anti-Ferromagnetic Model](#toc3_1_)    \n",
    "  - [Ferromagnetic](#toc3_2_)    \n",
    "- [Conclusion & Dicussion](#toc3_3_)    \n",
    "\n",
    "<!-- vscode-jupyter-toc-config\n",
    "\tnumbering=false\n",
    "\tanchor=true\n",
    "\tflat=false\n",
    "\tminLevel=1\n",
    "\tmaxLevel=6\n",
    "\t/vscode-jupyter-toc-config -->\n",
    "<!-- THIS CELL WILL BE REPLACED ON TOC UPDATE. DO NOT WRITE YOUR TEXT IN THIS CELL -->"
   ]
  },
  {
   "cell_type": "raw",
   "metadata": {
    "colab": {
     "base_uri": "https://localhost:8080/"
    },
    "executionInfo": {
     "elapsed": 26408,
     "status": "ok",
     "timestamp": 1711610876972,
     "user": {
      "displayName": "Navaneeth Krishnan M",
      "userId": "01159398790914176788"
     },
     "user_tz": -330
    },
    "id": "9gJehv3ECFXo",
    "outputId": "5a8a7822-9773-42a8-a089-bc130bb1194b"
   },
   "source": [
    "# Installing Necessary Modules\n",
    "!pip install qiskit -q\n",
    "!pip install netket -q"
   ]
  },
  {
   "cell_type": "code",
   "execution_count": 5,
   "metadata": {
    "executionInfo": {
     "elapsed": 1335,
     "status": "ok",
     "timestamp": 1711610879775,
     "user": {
      "displayName": "Navaneeth Krishnan M",
      "userId": "01159398790914176788"
     },
     "user_tz": -330
    },
    "id": "gSmAzTpvCivH"
   },
   "outputs": [],
   "source": [
    "# importing qiskit modules\n",
    "\n",
    "from qiskit.quantum_info import SparsePauliOp\n",
    "from qiskit.circuit import QuantumCircuit\n",
    "from qiskit.transpiler import PassManager\n",
    "from qiskit.circuit.library import RealAmplitudes\n",
    "from qiskit.primitives import BackendEstimator\n",
    "from qiskit.providers.basic_provider import BasicSimulator\n",
    "from qiskit.providers.options import Options\n",
    "from qiskit.transpiler.preset_passmanagers import generate_preset_pass_manager\n"
   ]
  },
  {
   "cell_type": "code",
   "execution_count": 6,
   "metadata": {
    "executionInfo": {
     "elapsed": 8687,
     "status": "ok",
     "timestamp": 1711610892208,
     "user": {
      "displayName": "Navaneeth Krishnan M",
      "userId": "01159398790914176788"
     },
     "user_tz": -330
    },
    "id": "uDho-CgxCj6y"
   },
   "outputs": [],
   "source": [
    "# importing necessary netket libraries\n",
    "import flax\n",
    "import flax.linen as nn\n",
    "import netket as nk\n",
    "from netket.operator.spin import sigmax,sigmaz\n",
    "import jax.numpy as jnp"
   ]
  },
  {
   "cell_type": "code",
   "execution_count": 1,
   "metadata": {
    "colab": {
     "base_uri": "https://localhost:8080/"
    },
    "executionInfo": {
     "elapsed": 28068,
     "status": "ok",
     "timestamp": 1711609598332,
     "user": {
      "displayName": "Navaneeth Krishnan M",
      "userId": "01159398790914176788"
     },
     "user_tz": -330
    },
    "id": "WCE-SZvkCjwG",
    "outputId": "fda0b230-8db9-40dd-bfbd-e5445466c37f"
   },
   "outputs": [
    {
     "name": "stdout",
     "output_type": "stream",
     "text": []
    }
   ],
   "source": [
    "# other useful libraries\n",
    "import pickle\n",
    "import sys\n",
    "import time\n",
    "\n",
    "from tqdm import tqdm\n",
    "from scipy.sparse.linalg import eigsh\n",
    "from scipy.optimize import minimize\n",
    "\n",
    "import numpy as np\n",
    "import pandas as pd\n",
    "import matplotlib.pyplot as plt\n",
    "\n",
    "\n",
    "# mounting google drive (if running on google colab) --otherwise comment\n",
    "\n",
    "# from google.colab import drive\n",
    "# drive.mount('/content/drive/')"
   ]
  },
  {
   "cell_type": "markdown",
   "metadata": {},
   "source": [
    "## <a id='toc1_1_'></a>[Defining TFI model and Exact Energy Calculations](#toc0_)\n",
    "\n",
    "Transverse Field Ising Model is one othe simplest quantum system nowadays used as benchmark to test the performance of various algorithms.\n",
    "\n",
    "$$H = -J\\sum_{\\langle i,j \\rangle}\\sigma^{z}_{i}\\sigma^{z}_{j} - h\\sum_{i}\\sigma^{x}_{i}$$\n",
    "\n",
    "where $J$ accounts for the spin-spin interaction strength. If $J>0$ the spins have ferromagnetic interaction between them and $J<\n",
    "1$ indicates antiferromagnetic interaction. Each spin in the chain is under the influence of the an external field in the $x$ direction, whose strength is indicated by $h$.\n",
    " - $h=0$ indicates no field.\n",
    " - $h$ takes negative values the field is in the $-x$ direction."
   ]
  },
  {
   "cell_type": "markdown",
   "metadata": {
    "id": "xM8SmqP3ruzN"
   },
   "source": [
    "### Ground State as a Variational Problem\n",
    "\n",
    "According to the variational principle of quantum mechanics, the problem of finding the ground state of the system can be mapped into a optimization problem. The trail wavefunction whose parameter is optimized during the process is called an ansatz. At the end of the optimization we will a set of optimal parameters which then supplied to ansatz would give approximate ground state of the system studied.\n",
    "\n",
    "\n",
    "There are many kind of ansatz which having there on strength and weakness. In this notebook, we are going to compare the performance of\n",
    "[Neural Network Quantum States](https://arxiv.org/pdf/2402.09402.pdf) and [Variational Quantum Algorithms](https://www.sciencedirect.com/science/article/pii/S0370157322003118?via%3Dihub). \n",
    "\n",
    "* **Neural Network Quantum States**: uses neural networks as variational ansatz whose weights and biased are optimized to find the ground states of the system of interest. It was first by [G.Carleo and M.Troyer](https://arxiv.org/pdf/1606.02318.pdf) in 2017. The application of NQS extends far beyond finding ground state of the system.\n",
    "    * In this excercise, we have used one-layer feed forward neural network as our variational ansatz.\n",
    "    * NQS is implemented by using [`netket`](https://www.netket.org/). \n",
    "\n",
    "* **Variational Quantum Algorithms**: are hybrid quantum algorithms which requires both classical and quantum routines for functioning. The quantum circuit is used a variational ansatz whose expectation values is estimated in quantum computer. The updation of the paramters required is done classical optimization algorithms.\n",
    "    * In this excercise, we have used `RealAmplitudes` ansatz as the quantum variational ansatz\n",
    "    * Implementation was performed `Qiskit`.\n",
    "    * All the simulations were performed on local simulator."
   ]
  },
  {
   "cell_type": "markdown",
   "metadata": {},
   "source": [
    "**Methodology** : For performing comparison, We are going to define a Ising chain with 10 spins that satisfy open boundary conditions.\n",
    "\n",
    "* By varying values of $h$ and $J$ we are considering 6 models, which we considered 6 TFI models.\n",
    "* Comparison is done based on the relative error of the final state, time taken to find ground states and number of parameters to be optimized.\n",
    "* Throughout the simulation the number of iterations of optimization algorithms is fixed = 300 unless specified.\n",
    "\n",
    "\n",
    "First we are going to define functions to calculate Hamiltonian of the system and exact ground state energy which is used as reference."
   ]
  },
  {
   "cell_type": "code",
   "execution_count": 7,
   "metadata": {
    "executionInfo": {
     "elapsed": 572,
     "status": "ok",
     "timestamp": 1711610910258,
     "user": {
      "displayName": "Navaneeth Krishnan M",
      "userId": "01159398790914176788"
     },
     "user_tz": -330
    },
    "id": "G5NJF3v9s8rE"
   },
   "outputs": [],
   "source": [
    "def generate_Hamiltonian(N,J,h,hi):\n",
    "\n",
    "  # single body terms\n",
    "  H = sum([-J*sigmax(hi,i) for i in range(N)])\n",
    "  # two body terms of the Hamiltonian\n",
    "  H += sum([-h*sigmaz(hi,i)*sigmaz(hi,(i+1)%N) for i in range(N)])\n",
    "\n",
    "  hstrings = H.to_pauli_strings()\n",
    "  pauliop = list(hstrings.operators)\n",
    "  coeff =  list(hstrings.weights)\n",
    "  hpauli = SparsePauliOp(pauliop,coeffs=coeff)\n",
    "\n",
    "  return H, hpauli\n",
    "\n",
    "def calc_Energy(H):\n",
    "  sp_h = H.to_sparse()\n",
    "  eig_vals,eig_vecs = eigsh(sp_h,k=2,which=\"SA\") # selecting only 2 eigvals and eigvecs that having smallest algebraic eigenvalues\n",
    "  Egs = eig_vals[0]\n",
    "\n",
    "  return Egs"
   ]
  },
  {
   "cell_type": "markdown",
   "metadata": {},
   "source": [
    "# <a id='toc2_'></a>[Performance analysis of Feed Forward Neural Network Quantum States](#toc0_)\n",
    "\n"
   ]
  },
  {
   "cell_type": "markdown",
   "metadata": {
    "id": "23YI19jTSE98"
   },
   "source": [
    "We can define a one layer Feed Forward Neural network quantum state, which will serve as the variational ansatz, whose parameter's $\\theta_{i}$ needs to be optimized to find the ground state. For the optimization of $\\theta$'s we need to calculate the energy expectation value, which on the context of neural network quantum states are converted into statistical averages that can be computed via sampling.\n",
    "\n",
    "Thus in NQS, while defining a neural network ansatz, we also have to define a sampler which samples the NNs to calculate the quantities of interest."
   ]
  },
  {
   "cell_type": "code",
   "execution_count": 8,
   "metadata": {
    "executionInfo": {
     "elapsed": 463,
     "status": "ok",
     "timestamp": 1711610915461,
     "user": {
      "displayName": "Navaneeth Krishnan M",
      "userId": "01159398790914176788"
     },
     "user_tz": -330
    },
    "id": "oXYMOUfRRtkq"
   },
   "outputs": [],
   "source": [
    "# defining a one-layer feed forward neural network\n",
    "\n",
    "class FFN(nn.Module):\n",
    "    alpha : int = 1  # ratio hidden to visible layers\n",
    "    @nn.compact\n",
    "    def __call__(self,x):\n",
    "        dense = flax.linen.Dense(features=self.alpha * x.shape[-1])\n",
    "        y = dense(x) # apply dense layer to the input\n",
    "        y = flax.linen.relu(y) # non-linearity is a simple ReLU\n",
    "        return(jnp.sum(y,axis=-1))\n"
   ]
  },
  {
   "cell_type": "markdown",
   "metadata": {},
   "source": [
    "## <a id='toc2_1_'></a>[Antiferromagnetic model](#toc0_)"
   ]
  },
  {
   "cell_type": "code",
   "execution_count": 9,
   "metadata": {
    "executionInfo": {
     "elapsed": 13530,
     "status": "ok",
     "timestamp": 1711610930983,
     "user": {
      "displayName": "Navaneeth Krishnan M",
      "userId": "01159398790914176788"
     },
     "user_tz": -330
    },
    "id": "1fVdZ1XbRtOx"
   },
   "outputs": [],
   "source": [
    "N = 10 # Number of spins\n",
    "\n",
    "models = {'Model-1':{'J':-1,'h': 1}, 'Model-2':{'J':-1,'h': 0.5}, 'Model-3':{'J':-1,'h':0.1},\n",
    "          'Model-4':{'J':-0.1,'h': 1}, 'Model-5':{'J':-0.5, 'h': 0.1},'Model-6':{'J':-0.5, 'h': 1}}\n",
    "\n",
    "Hamiltonian = {key: {} for key in models}\n",
    "\n",
    "# defining hilbert space of spins-1/2\n",
    "hi = nk.hilbert.Spin(s=1/2, N=N)\n",
    "\n",
    "for keys in models.keys():\n",
    "  j = models[keys]['J']\n",
    "  h = models[keys]['h']\n",
    "  H,hpauli = generate_Hamiltonian(N,j,h,hi)\n",
    "  Egs = calc_Energy(H)\n",
    "  Hamiltonian[keys]['H'] = H\n",
    "  Hamiltonian[keys]['hpauli'] = hpauli\n",
    "  models[keys]['Egs'] = Egs"
   ]
  },
  {
   "cell_type": "code",
   "execution_count": 10,
   "metadata": {
    "executionInfo": {
     "elapsed": 1333,
     "status": "ok",
     "timestamp": 1711610932308,
     "user": {
      "displayName": "Navaneeth Krishnan M",
      "userId": "01159398790914176788"
     },
     "user_tz": -330
    },
    "id": "3cO5c0NrRs4F"
   },
   "outputs": [],
   "source": [
    "model = FFN(alpha=1) # defines a feed forward neural network\n",
    "sampler = nk.sampler.MetropolisLocal(hi) # samples according to metropolis-Hasting algorithm\n",
    "vstate = nk.vqs.MCState(sampler,model,n_samples=10000) # variational state or ansatz."
   ]
  },
  {
   "cell_type": "markdown",
   "metadata": {
    "id": "SPIZ_S-GmJcX"
   },
   "source": [
    "While defining variational state we have to input the sampler used for sampling the NQS, the model of NQS, and the number of samples to be taken to estimate the statistical averages."
   ]
  },
  {
   "cell_type": "code",
   "execution_count": 11,
   "metadata": {
    "colab": {
     "base_uri": "https://localhost:8080/"
    },
    "executionInfo": {
     "elapsed": 248937,
     "status": "ok",
     "timestamp": 1711611181232,
     "user": {
      "displayName": "Navaneeth Krishnan M",
      "userId": "01159398790914176788"
     },
     "user_tz": -330
    },
    "id": "O_o-D34yRsfY",
    "outputId": "4663e4f6-2ed3-4204-e79f-e539d31517cd"
   },
   "outputs": [
    {
     "name": "stderr",
     "output_type": "stream",
     "text": [
      "100%|██████████| 300/300 [00:39<00:00,  7.65it/s, Energy=-9.999e+00 ± nan [σ²=0.000e+00, R̂=inf]]\n"
     ]
    },
    {
     "name": "stdout",
     "output_type": "stream",
     "text": [
      "optimized energy and relative error -9.999e+00 ± 2.866e-17 [σ²=3.155e-30, R̂=1.0278] 0.21788089103766933\n"
     ]
    },
    {
     "name": "stderr",
     "output_type": "stream",
     "text": [
      "100%|██████████| 300/300 [00:39<00:00,  7.59it/s, Energy=-4.999050 ± 0.000024 [σ²=0.000000, R̂=1.4136]]\n"
     ]
    },
    {
     "name": "stdout",
     "output_type": "stream",
     "text": [
      "optimized energy and relative error -9.999525 ± 0.000012 [σ²=0.000000, R̂=1.4136] 0.05980660694212146\n"
     ]
    },
    {
     "name": "stderr",
     "output_type": "stream",
     "text": [
      "100%|██████████| 300/300 [00:38<00:00,  7.73it/s, Energy=-5.993e-01 ± nan [σ²=0.000e+00, R̂=inf]]\n"
     ]
    },
    {
     "name": "stdout",
     "output_type": "stream",
     "text": [
      "optimized energy and relative error -6.000e+00 ± 3.538e-17 [σ²=3.155e-30, R̂=1.0094] 0.4015320972849843\n"
     ]
    },
    {
     "name": "stderr",
     "output_type": "stream",
     "text": [
      "100%|██████████| 300/300 [00:40<00:00,  7.43it/s, Energy=-9.9985263 ± 0.0000018 [σ²=0.0000000, R̂=1.4136]]\n"
     ]
    },
    {
     "name": "stdout",
     "output_type": "stream",
     "text": [
      "optimized energy and relative error -9.9926316 ± 0.0000090 [σ²=0.0000000, R̂=1.4136] 0.003230329832632038\n"
     ]
    },
    {
     "name": "stderr",
     "output_type": "stream",
     "text": [
      "100%|██████████| 300/300 [00:39<00:00,  7.56it/s, Energy=-0.997907 ± 0.000053 [σ²=0.000001, R̂=1.4136]]\n"
     ]
    },
    {
     "name": "stdout",
     "output_type": "stream",
     "text": [
      "optimized energy and relative error -9.997908 ± 0.000053 [σ²=0.000001, R̂=1.4136] 0.9797341665648243\n"
     ]
    },
    {
     "name": "stderr",
     "output_type": "stream",
     "text": [
      "100%|██████████| 300/300 [00:39<00:00,  7.63it/s, Energy=-9.9973313 ± 0.0000056 [σ²=0.0000000, R̂=1.4136]]\n"
     ]
    },
    {
     "name": "stdout",
     "output_type": "stream",
     "text": [
      "optimized energy and relative error -9.9973313 ± 0.0000056 [σ²=0.0000000, R̂=1.4136] 0.060012868946917354\n"
     ]
    }
   ],
   "source": [
    "niter = 300 # max number of iterations in the optimizer\n",
    "\n",
    "for keys in models.keys():\n",
    "  model = models[keys]\n",
    "  vstate.init_parameters()\n",
    "  log=nk.logging.RuntimeLog()\n",
    "\n",
    "  optimizer = nk.optimizer.Sgd(learning_rate=0.1) # using stochastic gradient descent for optimization.\n",
    "  gs = nk.driver.VMC(Hamiltonian[keys]['H'],optimizer,variational_state=vstate,preconditioner=nk.optimizer.SR(diag_shift=0.1)) # build the optimization driver.\n",
    "  st = time.time()\n",
    "  gs.run(n_iter=niter,out=log) # runs the optimization driver for 500 iterations.\n",
    "  et = time.time()\n",
    "  min,sec = divmod(et-st,60)\n",
    "  data_FFN = log.data # log data.\n",
    "  Egs = model['Egs']\n",
    "  ffn_energy = vstate.expect(H) # final energy expectation value.\n",
    "  error = abs((ffn_energy.mean-Egs)/Egs) # error in energy expectation value.\n",
    "\n",
    "  model['data_FFN'] = data_FFN['Energy'].to_dict()\n",
    "  model['ffn_energy'] = ffn_energy\n",
    "  model['error'] = error\n",
    "  model['exec_time'] = f'{int(min)}:{int(sec)}'\n",
    "  print(\"optimized energy and relative error\",ffn_energy,error)"
   ]
  },
  {
   "cell_type": "markdown",
   "metadata": {
    "id": "WP-zLqlOnSWM"
   },
   "source": [
    "The parameters of NQS is optimized by the `optimizer` defined in the above cell. In this trail, we have used stochastic grdient descent algorithm as an optimizer.\n",
    "\n",
    "To improve the convergence we have used `preconditioner` in the optimization routine. Preconditioner is a function that maps a variational state and the gradient vector $f_{i}$ to another vector $\\delta_{i}$ which can passed to the optimzer as gradient instead of $f_{i}$. Here we have used `stochastic reconfiguration` as a preconditioner which is solved by solving a linear system of equations.\n",
    "\n",
    "$$\\sum_{j}Re[G_{ij}]\\delta_{j} = f_{i} = 2Re[\\tilde{f_{i}}]$$\n",
    "\n",
    "where $G_{ij}$ is the Quantum Geometric Tensor."
   ]
  },
  {
   "cell_type": "code",
   "execution_count": 12,
   "metadata": {
    "colab": {
     "base_uri": "https://localhost:8080/",
     "height": 543
    },
    "executionInfo": {
     "elapsed": 2172,
     "status": "ok",
     "timestamp": 1711611183386,
     "user": {
      "displayName": "Navaneeth Krishnan M",
      "userId": "01159398790914176788"
     },
     "user_tz": -330
    },
    "id": "rHEl5rYpRsE3",
    "outputId": "b4e981ab-a1d7-4267-f2d8-1c1af57a20d4"
   },
   "outputs": [
    {
     "data": {
      "image/png": "[encoded data removed]",
      "text/plain": [
       "<Figure size 640x480 with 6 Axes>"
      ]
     },
     "metadata": {},
     "output_type": "display_data"
    }
   ],
   "source": [
    "# visualization\n",
    "\n",
    "fig,ax = plt.subplots(3,2,sharey=True,sharex=True)\n",
    "ax = ax.flatten()\n",
    "\n",
    "for i,keys in enumerate(models.keys()):\n",
    "  model = models[keys]\n",
    "  data = model['data_FFN']\n",
    "  egs = model['Egs']\n",
    "  ax[i].plot(data['iters'],data['Mean'],color='orange')\n",
    "  ax[i].hlines([egs], xmin=0, xmax=niter, color='black',linestyle='--')\n",
    "  J,h,err = model['J'],model['h'],model['error']\n",
    "  ax[i].text(0.50, 0.85, f'J ={J}, h = {h}', transform=ax[i].transAxes,\n",
    "               verticalalignment='top', bbox={'facecolor': 'white', 'alpha': 0.2})\n",
    "  ax[i].set_title(keys)\n",
    "\n",
    "# Create custom legend labels and handles\n",
    "legend_labels = ['FFN', 'Exact']\n",
    "legend_handles = [plt.Line2D([0], [0], color='orange', linewidth=1, label='FFN'),\n",
    "                  plt.Line2D([0], [0], color='black', linestyle='--',linewidth=1, label='Exact')]\n",
    "\n",
    "# Create the legend\n",
    "fig.legend(handles=legend_handles, labels=legend_labels, loc='upper center', bbox_to_anchor=(0.5, -0.02),\n",
    "           fancybox=True, shadow=True, ncol=2)\n",
    "\n",
    "fig.text(0.5, 0.00, 'Iterations', ha='center')\n",
    "fig.text(0.00, 0.5, 'Energy', va='center', rotation='vertical')\n",
    "plt.tight_layout()"
   ]
  },
  {
   "cell_type": "code",
   "execution_count": 13,
   "metadata": {
    "colab": {
     "base_uri": "https://localhost:8080/",
     "height": 238
    },
    "executionInfo": {
     "elapsed": 25,
     "status": "ok",
     "timestamp": 1711611183386,
     "user": {
      "displayName": "Navaneeth Krishnan M",
      "userId": "01159398790914176788"
     },
     "user_tz": -330
    },
    "id": "RSPpriyj8w7w",
    "outputId": "5cf76129-a209-42bc-ee26-d8c66b2c7cd5"
   },
   "outputs": [
    {
     "data": {
      "application/vnd.google.colaboratory.intrinsic+json": {
       "summary": "{\n  \"name\": \"df\",\n  \"rows\": 6,\n  \"fields\": [\n    {\n      \"column\": \"Model\",\n      \"properties\": {\n        \"dtype\": \"string\",\n        \"num_unique_values\": 6,\n        \"samples\": [\n          \"Model-1\",\n          \"Model-2\",\n          \"Model-6\"\n        ],\n        \"semantic_type\": \"\",\n        \"description\": \"\"\n      }\n    },\n    {\n      \"column\": \"Optimum Energy\",\n      \"properties\": {\n        \"dtype\": \"string\",\n        \"num_unique_values\": 6,\n        \"samples\": [\n          \"-9.999\",\n          \"-10.000\",\n          \"-9.997\"\n        ],\n        \"semantic_type\": \"\",\n        \"description\": \"\"\n      }\n    },\n    {\n      \"column\": \"Exact Energy\",\n      \"properties\": {\n        \"dtype\": \"string\",\n        \"num_unique_values\": 4,\n        \"samples\": [\n          \"-10.636\",\n          \"-5.050\",\n          \"-12.785\"\n        ],\n        \"semantic_type\": \"\",\n        \"description\": \"\"\n      }\n    },\n    {\n      \"column\": \"Relative Error\",\n      \"properties\": {\n        \"dtype\": \"string\",\n        \"num_unique_values\": 5,\n        \"samples\": [\n          \"0.060\",\n          \"0.980\",\n          \"0.402\"\n        ],\n        \"semantic_type\": \"\",\n        \"description\": \"\"\n      }\n    },\n    {\n      \"column\": \"R_hat\",\n      \"properties\": {\n        \"dtype\": \"string\",\n        \"num_unique_values\": 3,\n        \"samples\": [\n          \"1.028\",\n          \"1.414\",\n          \"1.009\"\n        ],\n        \"semantic_type\": \"\",\n        \"description\": \"\"\n      }\n    },\n    {\n      \"column\": \"Execution Time\",\n      \"properties\": {\n        \"dtype\": \"object\",\n        \"num_unique_values\": 4,\n        \"samples\": [\n          \"0:39\",\n          \"0:40\",\n          \"0:48\"\n        ],\n        \"semantic_type\": \"\",\n        \"description\": \"\"\n      }\n    }\n  ]\n}",
       "type": "dataframe",
       "variable_name": "df"
      },
      "text/html": [
       "\n",
       "  <div id=\"df-ae87c579-cac7-4b6e-a004-13c6c217e6f6\" class=\"colab-df-container\">\n",
       "    <div>\n",
       "<style scoped>\n",
       "    .dataframe tbody tr th:only-of-type {\n",
       "        vertical-align: middle;\n",
       "    }\n",
       "\n",
       "    .dataframe tbody tr th {\n",
       "        vertical-align: top;\n",
       "    }\n",
       "\n",
       "    .dataframe thead th {\n",
       "        text-align: right;\n",
       "    }\n",
       "</style>\n",
       "<table border=\"1\" class=\"dataframe\">\n",
       "  <thead>\n",
       "    <tr style=\"text-align: right;\">\n",
       "      <th></th>\n",
       "      <th>Model</th>\n",
       "      <th>Optimum Energy</th>\n",
       "      <th>Exact Energy</th>\n",
       "      <th>Relative Error</th>\n",
       "      <th>R_hat</th>\n",
       "      <th>Execution Time</th>\n",
       "    </tr>\n",
       "  </thead>\n",
       "  <tbody>\n",
       "    <tr>\n",
       "      <th>0</th>\n",
       "      <td>Model-1</td>\n",
       "      <td>-9.999</td>\n",
       "      <td>-12.785</td>\n",
       "      <td>0.218</td>\n",
       "      <td>1.028</td>\n",
       "      <td>0:48</td>\n",
       "    </tr>\n",
       "    <tr>\n",
       "      <th>1</th>\n",
       "      <td>Model-2</td>\n",
       "      <td>-10.000</td>\n",
       "      <td>-10.636</td>\n",
       "      <td>0.060</td>\n",
       "      <td>1.414</td>\n",
       "      <td>0:39</td>\n",
       "    </tr>\n",
       "    <tr>\n",
       "      <th>2</th>\n",
       "      <td>Model-3</td>\n",
       "      <td>-6.000</td>\n",
       "      <td>-10.025</td>\n",
       "      <td>0.402</td>\n",
       "      <td>1.009</td>\n",
       "      <td>0:38</td>\n",
       "    </tr>\n",
       "    <tr>\n",
       "      <th>3</th>\n",
       "      <td>Model-4</td>\n",
       "      <td>-9.993</td>\n",
       "      <td>-10.025</td>\n",
       "      <td>0.003</td>\n",
       "      <td>1.414</td>\n",
       "      <td>0:40</td>\n",
       "    </tr>\n",
       "    <tr>\n",
       "      <th>4</th>\n",
       "      <td>Model-5</td>\n",
       "      <td>-9.998</td>\n",
       "      <td>-5.050</td>\n",
       "      <td>0.980</td>\n",
       "      <td>1.414</td>\n",
       "      <td>0:39</td>\n",
       "    </tr>\n",
       "    <tr>\n",
       "      <th>5</th>\n",
       "      <td>Model-6</td>\n",
       "      <td>-9.997</td>\n",
       "      <td>-10.636</td>\n",
       "      <td>0.060</td>\n",
       "      <td>1.414</td>\n",
       "      <td>0:39</td>\n",
       "    </tr>\n",
       "  </tbody>\n",
       "</table>\n",
       "</div>\n",
       "    <div class=\"colab-df-buttons\">\n",
       "\n",
       "  <div class=\"colab-df-container\">\n",
       "    <button class=\"colab-df-convert\" onclick=\"convertToInteractive('df-ae87c579-cac7-4b6e-a004-13c6c217e6f6')\"\n",
       "            title=\"Convert this dataframe to an interactive table.\"\n",
       "            style=\"display:none;\">\n",
       "\n",
       "  <svg xmlns=\"http://www.w3.org/2000/svg\" height=\"24px\" viewBox=\"0 -960 960 960\">\n",
       "    <path d=\"M120-120v-720h720v720H120Zm60-500h600v-160H180v160Zm220 220h160v-160H400v160Zm0 220h160v-160H400v160ZM180-400h160v-160H180v160Zm440 0h160v-160H620v160ZM180-180h160v-160H180v160Zm440 0h160v-160H620v160Z\"/>\n",
       "  </svg>\n",
       "    </button>\n",
       "\n",
       "  <style>\n",
       "    .colab-df-container {\n",
       "      display:flex;\n",
       "      gap: 12px;\n",
       "    }\n",
       "\n",
       "    .colab-df-convert {\n",
       "      background-color: #E8F0FE;\n",
       "      border: none;\n",
       "      border-radius: 50%;\n",
       "      cursor: pointer;\n",
       "      display: none;\n",
       "      fill: #1967D2;\n",
       "      height: 32px;\n",
       "      padding: 0 0 0 0;\n",
       "      width: 32px;\n",
       "    }\n",
       "\n",
       "    .colab-df-convert:hover {\n",
       "      background-color: #E2EBFA;\n",
       "      box-shadow: 0px 1px 2px rgba(60, 64, 67, 0.3), 0px 1px 3px 1px rgba(60, 64, 67, 0.15);\n",
       "      fill: #174EA6;\n",
       "    }\n",
       "\n",
       "    .colab-df-buttons div {\n",
       "      margin-bottom: 4px;\n",
       "    }\n",
       "\n",
       "    [theme=dark] .colab-df-convert {\n",
       "      background-color: #3B4455;\n",
       "      fill: #D2E3FC;\n",
       "    }\n",
       "\n",
       "    [theme=dark] .colab-df-convert:hover {\n",
       "      background-color: #434B5C;\n",
       "      box-shadow: 0px 1px 3px 1px rgba(0, 0, 0, 0.15);\n",
       "      filter: drop-shadow(0px 1px 2px rgba(0, 0, 0, 0.3));\n",
       "      fill: #FFFFFF;\n",
       "    }\n",
       "  </style>\n",
       "\n",
       "    <script>\n",
       "      const buttonEl =\n",
       "        document.querySelector('#df-ae87c579-cac7-4b6e-a004-13c6c217e6f6 button.colab-df-convert');\n",
       "      buttonEl.style.display =\n",
       "        google.colab.kernel.accessAllowed ? 'block' : 'none';\n",
       "\n",
       "      async function convertToInteractive(key) {\n",
       "        const element = document.querySelector('#df-ae87c579-cac7-4b6e-a004-13c6c217e6f6');\n",
       "        const dataTable =\n",
       "          await google.colab.kernel.invokeFunction('convertToInteractive',\n",
       "                                                    [key], {});\n",
       "        if (!dataTable) return;\n",
       "\n",
       "        const docLinkHtml = 'Like what you see? Visit the ' +\n",
       "          '<a target=\"_blank\" href=https://colab.research.google.com/notebooks/data_table.ipynb>data table notebook</a>'\n",
       "          + ' to learn more about interactive tables.';\n",
       "        element.innerHTML = '';\n",
       "        dataTable['output_type'] = 'display_data';\n",
       "        await google.colab.output.renderOutput(dataTable, element);\n",
       "        const docLink = document.createElement('div');\n",
       "        docLink.innerHTML = docLinkHtml;\n",
       "        element.appendChild(docLink);\n",
       "      }\n",
       "    </script>\n",
       "  </div>\n",
       "\n",
       "\n",
       "<div id=\"df-b952b097-9f6e-4ef3-9299-c1dce021f35c\">\n",
       "  <button class=\"colab-df-quickchart\" onclick=\"quickchart('df-b952b097-9f6e-4ef3-9299-c1dce021f35c')\"\n",
       "            title=\"Suggest charts\"\n",
       "            style=\"display:none;\">\n",
       "\n",
       "<svg xmlns=\"http://www.w3.org/2000/svg\" height=\"24px\"viewBox=\"0 0 24 24\"\n",
       "     width=\"24px\">\n",
       "    <g>\n",
       "        <path d=\"M19 3H5c-1.1 0-2 .9-2 2v14c0 1.1.9 2 2 2h14c1.1 0 2-.9 2-2V5c0-1.1-.9-2-2-2zM9 17H7v-7h2v7zm4 0h-2V7h2v10zm4 0h-2v-4h2v4z\"/>\n",
       "    </g>\n",
       "</svg>\n",
       "  </button>\n",
       "\n",
       "<style>\n",
       "  .colab-df-quickchart {\n",
       "      --bg-color: #E8F0FE;\n",
       "      --fill-color: #1967D2;\n",
       "      --hover-bg-color: #E2EBFA;\n",
       "      --hover-fill-color: #174EA6;\n",
       "      --disabled-fill-color: #AAA;\n",
       "      --disabled-bg-color: #DDD;\n",
       "  }\n",
       "\n",
       "  [theme=dark] .colab-df-quickchart {\n",
       "      --bg-color: #3B4455;\n",
       "      --fill-color: #D2E3FC;\n",
       "      --hover-bg-color: #434B5C;\n",
       "      --hover-fill-color: #FFFFFF;\n",
       "      --disabled-bg-color: #3B4455;\n",
       "      --disabled-fill-color: #666;\n",
       "  }\n",
       "\n",
       "  .colab-df-quickchart {\n",
       "    background-color: var(--bg-color);\n",
       "    border: none;\n",
       "    border-radius: 50%;\n",
       "    cursor: pointer;\n",
       "    display: none;\n",
       "    fill: var(--fill-color);\n",
       "    height: 32px;\n",
       "    padding: 0;\n",
       "    width: 32px;\n",
       "  }\n",
       "\n",
       "  .colab-df-quickchart:hover {\n",
       "    background-color: var(--hover-bg-color);\n",
       "    box-shadow: 0 1px 2px rgba(60, 64, 67, 0.3), 0 1px 3px 1px rgba(60, 64, 67, 0.15);\n",
       "    fill: var(--button-hover-fill-color);\n",
       "  }\n",
       "\n",
       "  .colab-df-quickchart-complete:disabled,\n",
       "  .colab-df-quickchart-complete:disabled:hover {\n",
       "    background-color: var(--disabled-bg-color);\n",
       "    fill: var(--disabled-fill-color);\n",
       "    box-shadow: none;\n",
       "  }\n",
       "\n",
       "  .colab-df-spinner {\n",
       "    border: 2px solid var(--fill-color);\n",
       "    border-color: transparent;\n",
       "    border-bottom-color: var(--fill-color);\n",
       "    animation:\n",
       "      spin 1s steps(1) infinite;\n",
       "  }\n",
       "\n",
       "  @keyframes spin {\n",
       "    0% {\n",
       "      border-color: transparent;\n",
       "      border-bottom-color: var(--fill-color);\n",
       "      border-left-color: var(--fill-color);\n",
       "    }\n",
       "    20% {\n",
       "      border-color: transparent;\n",
       "      border-left-color: var(--fill-color);\n",
       "      border-top-color: var(--fill-color);\n",
       "    }\n",
       "    30% {\n",
       "      border-color: transparent;\n",
       "      border-left-color: var(--fill-color);\n",
       "      border-top-color: var(--fill-color);\n",
       "      border-right-color: var(--fill-color);\n",
       "    }\n",
       "    40% {\n",
       "      border-color: transparent;\n",
       "      border-right-color: var(--fill-color);\n",
       "      border-top-color: var(--fill-color);\n",
       "    }\n",
       "    60% {\n",
       "      border-color: transparent;\n",
       "      border-right-color: var(--fill-color);\n",
       "    }\n",
       "    80% {\n",
       "      border-color: transparent;\n",
       "      border-right-color: var(--fill-color);\n",
       "      border-bottom-color: var(--fill-color);\n",
       "    }\n",
       "    90% {\n",
       "      border-color: transparent;\n",
       "      border-bottom-color: var(--fill-color);\n",
       "    }\n",
       "  }\n",
       "</style>\n",
       "\n",
       "  <script>\n",
       "    async function quickchart(key) {\n",
       "      const quickchartButtonEl =\n",
       "        document.querySelector('#' + key + ' button');\n",
       "      quickchartButtonEl.disabled = true;  // To prevent multiple clicks.\n",
       "      quickchartButtonEl.classList.add('colab-df-spinner');\n",
       "      try {\n",
       "        const charts = await google.colab.kernel.invokeFunction(\n",
       "            'suggestCharts', [key], {});\n",
       "      } catch (error) {\n",
       "        console.error('Error during call to suggestCharts:', error);\n",
       "      }\n",
       "      quickchartButtonEl.classList.remove('colab-df-spinner');\n",
       "      quickchartButtonEl.classList.add('colab-df-quickchart-complete');\n",
       "    }\n",
       "    (() => {\n",
       "      let quickchartButtonEl =\n",
       "        document.querySelector('#df-b952b097-9f6e-4ef3-9299-c1dce021f35c button');\n",
       "      quickchartButtonEl.style.display =\n",
       "        google.colab.kernel.accessAllowed ? 'block' : 'none';\n",
       "    })();\n",
       "  </script>\n",
       "</div>\n",
       "    </div>\n",
       "  </div>\n"
      ],
      "text/plain": [
       "     Model Optimum Energy Exact Energy Relative Error  R_hat Execution Time\n",
       "0  Model-1         -9.999      -12.785          0.218  1.028           0:48\n",
       "1  Model-2        -10.000      -10.636          0.060  1.414           0:39\n",
       "2  Model-3         -6.000      -10.025          0.402  1.009           0:38\n",
       "3  Model-4         -9.993      -10.025          0.003  1.414           0:40\n",
       "4  Model-5         -9.998       -5.050          0.980  1.414           0:39\n",
       "5  Model-6         -9.997      -10.636          0.060  1.414           0:39"
      ]
     },
     "execution_count": 13,
     "metadata": {},
     "output_type": "execute_result"
    }
   ],
   "source": [
    "data = {'Model': [], 'Optimum Energy': [], 'Exact Energy':[],'Relative Error': [], \"R_hat\": [], 'Execution Time': []}\n",
    "for keys in models.keys():\n",
    "  model = models[keys]\n",
    "  data['Model'].append(keys)\n",
    "  data['Optimum Energy'].append(\"%.3f\" %model['ffn_energy'].mean)\n",
    "  data['Relative Error'].append(\"%.3f\" %model['error'])\n",
    "  data['Exact Energy'].append(\"%.3f\" %model['Egs'])\n",
    "  data['R_hat'].append('%.3f' %model['ffn_energy'].R_hat)\n",
    "  data['Execution Time'].append(model['exec_time'])\n",
    "\n",
    "df = pd.DataFrame(data)\n",
    "df"
   ]
  },
  {
   "cell_type": "code",
   "execution_count": 15,
   "metadata": {
    "colab": {
     "base_uri": "https://localhost:8080/"
    },
    "executionInfo": {
     "elapsed": 18,
     "status": "ok",
     "timestamp": 1711611183386,
     "user": {
      "displayName": "Navaneeth Krishnan M",
      "userId": "01159398790914176788"
     },
     "user_tz": -330
    },
    "id": "BtxlvgUI4OUR",
    "outputId": "41f53b50-6c7f-4d72-85f5-b96320d6b4a7"
   },
   "outputs": [
    {
     "name": "stdout",
     "output_type": "stream",
     "text": [
      "mean relative error 0.2871666666666667\n"
     ]
    }
   ],
   "source": [
    "df['Relative Error'] = df['Relative Error'].astype(float)\n",
    "mean_value = df['Relative Error'].mean()\n",
    "\n",
    "print('mean relative error',mean_value)"
   ]
  },
  {
   "cell_type": "code",
   "execution_count": 16,
   "metadata": {
    "colab": {
     "base_uri": "https://localhost:8080/"
    },
    "executionInfo": {
     "elapsed": 16,
     "status": "ok",
     "timestamp": 1711611183387,
     "user": {
      "displayName": "Navaneeth Krishnan M",
      "userId": "01159398790914176788"
     },
     "user_tz": -330
    },
    "id": "ptDNnJI708EC",
    "outputId": "96651da3-b238-499f-bba4-6a61f4785956"
   },
   "outputs": [
    {
     "name": "stdout",
     "output_type": "stream",
     "text": [
      "Number of parameters to be optimized 110\n"
     ]
    }
   ],
   "source": [
    "print('Number of parameters to be optimized',vstate.n_parameters)"
   ]
  },
  {
   "cell_type": "markdown",
   "metadata": {},
   "source": [
    "## <a id='toc2_2_'></a>[Ferromagnetic Models](#toc0_)"
   ]
  },
  {
   "cell_type": "code",
   "execution_count": null,
   "metadata": {
    "id": "C2l4J-IUbRmC"
   },
   "outputs": [],
   "source": [
    "N = 10 # Number of spins\n",
    "\n",
    "models = {'Model-1':{'J':1,'h': 1}, 'Model-2':{'J':1,'h': 0.5}, 'Model-3':{'J': 1,'h': 0.1},\n",
    "          'Model-4':{'J':0.1,'h': 1}, 'Model-5':{'J': 0.5, 'h': 0.1},'Model-6':{'J': 0.5, 'h': 1}}\n",
    "\n",
    "Hamiltonian = {key: {} for key in models}\n",
    "\n",
    "# defining hilbert space of spins-1/2\n",
    "hi = nk.hilbert.Spin(s=1/2, N=N)\n",
    "\n",
    "for keys in models.keys():\n",
    "  j = models[keys]['J']\n",
    "  h = models[keys]['h']\n",
    "  H,hpauli = generate_Hamiltonian(N,j,h,hi)\n",
    "  Egs = calc_Energy(H)\n",
    "  Hamiltonian[keys]['H'] = H\n",
    "  Hamiltonian[keys]['hpauli'] = hpauli\n",
    "  models[keys]['Egs'] = Egs"
   ]
  },
  {
   "cell_type": "code",
   "execution_count": null,
   "metadata": {
    "colab": {
     "base_uri": "https://localhost:8080/"
    },
    "executionInfo": {
     "elapsed": 313197,
     "status": "ok",
     "timestamp": 1711545462987,
     "user": {
      "displayName": "Navaneeth Krishnan M",
      "userId": "01159398790914176788"
     },
     "user_tz": -330
    },
    "id": "epRUL8nTRpo3",
    "outputId": "46a6e6c2-2594-49ef-e8f0-437b94d98d3e"
   },
   "outputs": [
    {
     "name": "stderr",
     "output_type": "stream",
     "text": [
      "100%|██████████| 300/300 [00:56<00:00,  5.33it/s, Energy=-12.7777 ± 0.0023 [σ²=0.0544, R̂=0.9999]]\n"
     ]
    },
    {
     "name": "stdout",
     "output_type": "stream",
     "text": [
      "optimized energy and relative error -9.619 ± 0.026 [σ²=2.497, R̂=1.0039] 0.2476161484467403\n"
     ]
    },
    {
     "name": "stderr",
     "output_type": "stream",
     "text": [
      "100%|██████████| 300/300 [00:58<00:00,  5.14it/s, Energy=-10.63491 ± 0.00048 [σ²=0.00236, R̂=1.0009]]\n"
     ]
    },
    {
     "name": "stdout",
     "output_type": "stream",
     "text": [
      "optimized energy and relative error -7.285 ± 0.026 [σ²=5.598, R̂=1.0013] 0.31506481219130184\n"
     ]
    },
    {
     "name": "stderr",
     "output_type": "stream",
     "text": [
      "100%|██████████| 300/300 [00:56<00:00,  5.33it/s, Energy=-10.024965 ± 0.000038 [σ²=0.000014, R̂=1.0004]]\n"
     ]
    },
    {
     "name": "stdout",
     "output_type": "stream",
     "text": [
      "optimized energy and relative error -5.477 ± 0.031 [σ²=9.225, R̂=1.0005] 0.4536402010756915\n"
     ]
    },
    {
     "name": "stderr",
     "output_type": "stream",
     "text": [
      "100%|██████████| 300/300 [00:40<00:00,  7.45it/s, Energy=-10.025021 ± 0.000019 [σ²=0.000003, R̂=1.0008]]\n"
     ]
    },
    {
     "name": "stdout",
     "output_type": "stream",
     "text": [
      "optimized energy and relative error -10.229 ± 0.019 [σ²=1.635, R̂=1.0022] 0.020332946373293026\n"
     ]
    },
    {
     "name": "stderr",
     "output_type": "stream",
     "text": [
      "100%|██████████| 300/300 [00:57<00:00,  5.18it/s, Energy=-5.049989 ± 0.000076 [σ²=0.000056, R̂=1.0013]]\n"
     ]
    },
    {
     "name": "stdout",
     "output_type": "stream",
     "text": [
      "optimized energy and relative error -5.953 ± 0.030 [σ²=8.089, R̂=1.0009] 0.17876894189082843\n"
     ]
    },
    {
     "name": "stderr",
     "output_type": "stream",
     "text": [
      "100%|██████████| 300/300 [00:42<00:00,  7.11it/s, Energy=-10.63537 ± 0.00046 [σ²=0.00199, R̂=1.0009]]"
     ]
    },
    {
     "name": "stdout",
     "output_type": "stream",
     "text": [
      "optimized energy and relative error -10.63541 ± 0.00035 [σ²=0.00110, R̂=1.0009] 1.8620488593706504e-05\n"
     ]
    },
    {
     "name": "stderr",
     "output_type": "stream",
     "text": [
      "\n"
     ]
    }
   ],
   "source": [
    "niter = 300 # max number of iterations in the optimizer\n",
    "\n",
    "for keys in models.keys():\n",
    "  model = models[keys]\n",
    "  vstate.init_parameters()\n",
    "  log=nk.logging.RuntimeLog()\n",
    "\n",
    "  optimizer = nk.optimizer.Sgd(learning_rate=0.1) # using stochastic gradient descent for optimization.\n",
    "  gs = nk.driver.VMC(Hamiltonian[keys]['H'],optimizer,variational_state=vstate,preconditioner=nk.optimizer.SR(diag_shift=0.1)) # build the optimization driver.\n",
    "  st = time.time()\n",
    "  gs.run(n_iter=niter,out=log) # runs the optimization driver for 500 iterations.\n",
    "  et = time.time()\n",
    "  min,sec = divmod(et-st,60)\n",
    "  data_FFN = log.data # log data.\n",
    "  Egs = model['Egs']\n",
    "  ffn_energy = vstate.expect(H) # final energy expectation value.\n",
    "  error = abs((ffn_energy.mean-Egs)/Egs) # error in energy expectation value.\n",
    "\n",
    "  model['data_FFN'] = data_FFN['Energy'].to_dict()\n",
    "  model['ffn_energy'] = ffn_energy\n",
    "  model['error'] = error\n",
    "  model['exec_time'] = f'{int(min)}:{int(sec)}'\n",
    "  print(\"optimized energy and relative error\",ffn_energy,error)"
   ]
  },
  {
   "cell_type": "code",
   "execution_count": null,
   "metadata": {
    "colab": {
     "base_uri": "https://localhost:8080/",
     "height": 543
    },
    "executionInfo": {
     "elapsed": 2035,
     "status": "ok",
     "timestamp": 1711545465002,
     "user": {
      "displayName": "Navaneeth Krishnan M",
      "userId": "01159398790914176788"
     },
     "user_tz": -330
    },
    "id": "CqwWB9QURo0J",
    "outputId": "62e6ad29-49c3-4e13-ddfb-f985fb23087b"
   },
   "outputs": [
    {
     "data": {
      "image/png": "[encoded data removed]",
      "text/plain": [
       "<Figure size 640x480 with 6 Axes>"
      ]
     },
     "metadata": {},
     "output_type": "display_data"
    }
   ],
   "source": [
    "# visualization\n",
    "\n",
    "fig,ax = plt.subplots(3,2,sharey=True,sharex=True)\n",
    "ax = ax.flatten()\n",
    "\n",
    "for i,keys in enumerate(models.keys()):\n",
    "  model = models[keys]\n",
    "  data = model['data_FFN']\n",
    "  egs = model['Egs']\n",
    "  ax[i].plot(data['iters'],data['Mean'],color='orange')\n",
    "  ax[i].hlines([egs], xmin=0, xmax=niter, color='black',linestyle='--')\n",
    "  J,h,err = model['J'],model['h'],model['error']\n",
    "  ax[i].text(0.50, 0.85, f'J ={J}, h = {h}', transform=ax[i].transAxes,\n",
    "               verticalalignment='top', bbox={'facecolor': 'white', 'alpha': 0.2})\n",
    "  ax[i].set_title(keys)\n",
    "\n",
    "# Create custom legend labels and handles\n",
    "legend_labels = ['FFN', 'Exact']\n",
    "legend_handles = [plt.Line2D([0], [0], color='orange', linewidth=1, label='FFN'),\n",
    "                  plt.Line2D([0], [0], color='black', linestyle='--',linewidth=1, label='Exact')]\n",
    "\n",
    "# Create the legend\n",
    "fig.legend(handles=legend_handles, labels=legend_labels, loc='upper center', bbox_to_anchor=(0.5, -0.02),\n",
    "           fancybox=True, shadow=True, ncol=2)\n",
    "\n",
    "fig.text(0.5, 0.00, 'Iterations', ha='center')\n",
    "fig.text(0.00, 0.5, 'Energy', va='center', rotation='vertical')\n",
    "plt.tight_layout()"
   ]
  },
  {
   "cell_type": "code",
   "execution_count": null,
   "metadata": {
    "colab": {
     "base_uri": "https://localhost:8080/",
     "height": 238
    },
    "executionInfo": {
     "elapsed": 16,
     "status": "ok",
     "timestamp": 1711545465002,
     "user": {
      "displayName": "Navaneeth Krishnan M",
      "userId": "01159398790914176788"
     },
     "user_tz": -330
    },
    "id": "c64g2UQ2Rn4Q",
    "outputId": "55b879ae-e43e-42ca-e876-462d9eddc512"
   },
   "outputs": [
    {
     "data": {
      "application/vnd.google.colaboratory.intrinsic+json": {
       "summary": "{\n  \"name\": \"df\",\n  \"rows\": 6,\n  \"fields\": [\n    {\n      \"column\": \"Model\",\n      \"properties\": {\n        \"dtype\": \"string\",\n        \"num_unique_values\": 6,\n        \"samples\": [\n          \"Model-1\",\n          \"Model-2\",\n          \"Model-6\"\n        ],\n        \"semantic_type\": \"\",\n        \"description\": \"\"\n      }\n    },\n    {\n      \"column\": \"Optimum Energy\",\n      \"properties\": {\n        \"dtype\": \"string\",\n        \"num_unique_values\": 6,\n        \"samples\": [\n          \"-9.619\",\n          \"-7.285\",\n          \"-10.635\"\n        ],\n        \"semantic_type\": \"\",\n        \"description\": \"\"\n      }\n    },\n    {\n      \"column\": \"Exact Energy\",\n      \"properties\": {\n        \"dtype\": \"string\",\n        \"num_unique_values\": 4,\n        \"samples\": [\n          \"-10.636\",\n          \"-5.050\",\n          \"-12.785\"\n        ],\n        \"semantic_type\": \"\",\n        \"description\": \"\"\n      }\n    },\n    {\n      \"column\": \"Relative Error\",\n      \"properties\": {\n        \"dtype\": \"string\",\n        \"num_unique_values\": 6,\n        \"samples\": [\n          \"0.248\",\n          \"0.315\",\n          \"0.000\"\n        ],\n        \"semantic_type\": \"\",\n        \"description\": \"\"\n      }\n    },\n    {\n      \"column\": \"R_hat\",\n      \"properties\": {\n        \"dtype\": \"string\",\n        \"num_unique_values\": 4,\n        \"samples\": [\n          \"1.001\",\n          \"1.002\",\n          \"1.004\"\n        ],\n        \"semantic_type\": \"\",\n        \"description\": \"\"\n      }\n    },\n    {\n      \"column\": \"Execution Time\",\n      \"properties\": {\n        \"dtype\": \"object\",\n        \"num_unique_values\": 4,\n        \"samples\": [\n          \"0:58\",\n          \"0:42\",\n          \"0:56\"\n        ],\n        \"semantic_type\": \"\",\n        \"description\": \"\"\n      }\n    }\n  ]\n}",
       "type": "dataframe",
       "variable_name": "df"
      },
      "text/html": [
       "\n",
       "  <div id=\"df-28458b9a-f6b1-4ed4-8232-0a3370a5ffca\" class=\"colab-df-container\">\n",
       "    <div>\n",
       "<style scoped>\n",
       "    .dataframe tbody tr th:only-of-type {\n",
       "        vertical-align: middle;\n",
       "    }\n",
       "\n",
       "    .dataframe tbody tr th {\n",
       "        vertical-align: top;\n",
       "    }\n",
       "\n",
       "    .dataframe thead th {\n",
       "        text-align: right;\n",
       "    }\n",
       "</style>\n",
       "<table border=\"1\" class=\"dataframe\">\n",
       "  <thead>\n",
       "    <tr style=\"text-align: right;\">\n",
       "      <th></th>\n",
       "      <th>Model</th>\n",
       "      <th>Optimum Energy</th>\n",
       "      <th>Exact Energy</th>\n",
       "      <th>Relative Error</th>\n",
       "      <th>R_hat</th>\n",
       "      <th>Execution Time</th>\n",
       "    </tr>\n",
       "  </thead>\n",
       "  <tbody>\n",
       "    <tr>\n",
       "      <th>0</th>\n",
       "      <td>Model-1</td>\n",
       "      <td>-9.619</td>\n",
       "      <td>-12.785</td>\n",
       "      <td>0.248</td>\n",
       "      <td>1.004</td>\n",
       "      <td>0:56</td>\n",
       "    </tr>\n",
       "    <tr>\n",
       "      <th>1</th>\n",
       "      <td>Model-2</td>\n",
       "      <td>-7.285</td>\n",
       "      <td>-10.636</td>\n",
       "      <td>0.315</td>\n",
       "      <td>1.001</td>\n",
       "      <td>0:58</td>\n",
       "    </tr>\n",
       "    <tr>\n",
       "      <th>2</th>\n",
       "      <td>Model-3</td>\n",
       "      <td>-5.477</td>\n",
       "      <td>-10.025</td>\n",
       "      <td>0.454</td>\n",
       "      <td>1.000</td>\n",
       "      <td>0:56</td>\n",
       "    </tr>\n",
       "    <tr>\n",
       "      <th>3</th>\n",
       "      <td>Model-4</td>\n",
       "      <td>-10.229</td>\n",
       "      <td>-10.025</td>\n",
       "      <td>0.020</td>\n",
       "      <td>1.002</td>\n",
       "      <td>0:40</td>\n",
       "    </tr>\n",
       "    <tr>\n",
       "      <th>4</th>\n",
       "      <td>Model-5</td>\n",
       "      <td>-5.953</td>\n",
       "      <td>-5.050</td>\n",
       "      <td>0.179</td>\n",
       "      <td>1.001</td>\n",
       "      <td>0:58</td>\n",
       "    </tr>\n",
       "    <tr>\n",
       "      <th>5</th>\n",
       "      <td>Model-6</td>\n",
       "      <td>-10.635</td>\n",
       "      <td>-10.636</td>\n",
       "      <td>0.000</td>\n",
       "      <td>1.001</td>\n",
       "      <td>0:42</td>\n",
       "    </tr>\n",
       "  </tbody>\n",
       "</table>\n",
       "</div>\n",
       "    <div class=\"colab-df-buttons\">\n",
       "\n",
       "  <div class=\"colab-df-container\">\n",
       "    <button class=\"colab-df-convert\" onclick=\"convertToInteractive('df-28458b9a-f6b1-4ed4-8232-0a3370a5ffca')\"\n",
       "            title=\"Convert this dataframe to an interactive table.\"\n",
       "            style=\"display:none;\">\n",
       "\n",
       "  <svg xmlns=\"http://www.w3.org/2000/svg\" height=\"24px\" viewBox=\"0 -960 960 960\">\n",
       "    <path d=\"M120-120v-720h720v720H120Zm60-500h600v-160H180v160Zm220 220h160v-160H400v160Zm0 220h160v-160H400v160ZM180-400h160v-160H180v160Zm440 0h160v-160H620v160ZM180-180h160v-160H180v160Zm440 0h160v-160H620v160Z\"/>\n",
       "  </svg>\n",
       "    </button>\n",
       "\n",
       "  <style>\n",
       "    .colab-df-container {\n",
       "      display:flex;\n",
       "      gap: 12px;\n",
       "    }\n",
       "\n",
       "    .colab-df-convert {\n",
       "      background-color: #E8F0FE;\n",
       "      border: none;\n",
       "      border-radius: 50%;\n",
       "      cursor: pointer;\n",
       "      display: none;\n",
       "      fill: #1967D2;\n",
       "      height: 32px;\n",
       "      padding: 0 0 0 0;\n",
       "      width: 32px;\n",
       "    }\n",
       "\n",
       "    .colab-df-convert:hover {\n",
       "      background-color: #E2EBFA;\n",
       "      box-shadow: 0px 1px 2px rgba(60, 64, 67, 0.3), 0px 1px 3px 1px rgba(60, 64, 67, 0.15);\n",
       "      fill: #174EA6;\n",
       "    }\n",
       "\n",
       "    .colab-df-buttons div {\n",
       "      margin-bottom: 4px;\n",
       "    }\n",
       "\n",
       "    [theme=dark] .colab-df-convert {\n",
       "      background-color: #3B4455;\n",
       "      fill: #D2E3FC;\n",
       "    }\n",
       "\n",
       "    [theme=dark] .colab-df-convert:hover {\n",
       "      background-color: #434B5C;\n",
       "      box-shadow: 0px 1px 3px 1px rgba(0, 0, 0, 0.15);\n",
       "      filter: drop-shadow(0px 1px 2px rgba(0, 0, 0, 0.3));\n",
       "      fill: #FFFFFF;\n",
       "    }\n",
       "  </style>\n",
       "\n",
       "    <script>\n",
       "      const buttonEl =\n",
       "        document.querySelector('#df-28458b9a-f6b1-4ed4-8232-0a3370a5ffca button.colab-df-convert');\n",
       "      buttonEl.style.display =\n",
       "        google.colab.kernel.accessAllowed ? 'block' : 'none';\n",
       "\n",
       "      async function convertToInteractive(key) {\n",
       "        const element = document.querySelector('#df-28458b9a-f6b1-4ed4-8232-0a3370a5ffca');\n",
       "        const dataTable =\n",
       "          await google.colab.kernel.invokeFunction('convertToInteractive',\n",
       "                                                    [key], {});\n",
       "        if (!dataTable) return;\n",
       "\n",
       "        const docLinkHtml = 'Like what you see? Visit the ' +\n",
       "          '<a target=\"_blank\" href=https://colab.research.google.com/notebooks/data_table.ipynb>data table notebook</a>'\n",
       "          + ' to learn more about interactive tables.';\n",
       "        element.innerHTML = '';\n",
       "        dataTable['output_type'] = 'display_data';\n",
       "        await google.colab.output.renderOutput(dataTable, element);\n",
       "        const docLink = document.createElement('div');\n",
       "        docLink.innerHTML = docLinkHtml;\n",
       "        element.appendChild(docLink);\n",
       "      }\n",
       "    </script>\n",
       "  </div>\n",
       "\n",
       "\n",
       "<div id=\"df-4b6ec33f-9adc-4912-b37b-cf64e1eb63f2\">\n",
       "  <button class=\"colab-df-quickchart\" onclick=\"quickchart('df-4b6ec33f-9adc-4912-b37b-cf64e1eb63f2')\"\n",
       "            title=\"Suggest charts\"\n",
       "            style=\"display:none;\">\n",
       "\n",
       "<svg xmlns=\"http://www.w3.org/2000/svg\" height=\"24px\"viewBox=\"0 0 24 24\"\n",
       "     width=\"24px\">\n",
       "    <g>\n",
       "        <path d=\"M19 3H5c-1.1 0-2 .9-2 2v14c0 1.1.9 2 2 2h14c1.1 0 2-.9 2-2V5c0-1.1-.9-2-2-2zM9 17H7v-7h2v7zm4 0h-2V7h2v10zm4 0h-2v-4h2v4z\"/>\n",
       "    </g>\n",
       "</svg>\n",
       "  </button>\n",
       "\n",
       "<style>\n",
       "  .colab-df-quickchart {\n",
       "      --bg-color: #E8F0FE;\n",
       "      --fill-color: #1967D2;\n",
       "      --hover-bg-color: #E2EBFA;\n",
       "      --hover-fill-color: #174EA6;\n",
       "      --disabled-fill-color: #AAA;\n",
       "      --disabled-bg-color: #DDD;\n",
       "  }\n",
       "\n",
       "  [theme=dark] .colab-df-quickchart {\n",
       "      --bg-color: #3B4455;\n",
       "      --fill-color: #D2E3FC;\n",
       "      --hover-bg-color: #434B5C;\n",
       "      --hover-fill-color: #FFFFFF;\n",
       "      --disabled-bg-color: #3B4455;\n",
       "      --disabled-fill-color: #666;\n",
       "  }\n",
       "\n",
       "  .colab-df-quickchart {\n",
       "    background-color: var(--bg-color);\n",
       "    border: none;\n",
       "    border-radius: 50%;\n",
       "    cursor: pointer;\n",
       "    display: none;\n",
       "    fill: var(--fill-color);\n",
       "    height: 32px;\n",
       "    padding: 0;\n",
       "    width: 32px;\n",
       "  }\n",
       "\n",
       "  .colab-df-quickchart:hover {\n",
       "    background-color: var(--hover-bg-color);\n",
       "    box-shadow: 0 1px 2px rgba(60, 64, 67, 0.3), 0 1px 3px 1px rgba(60, 64, 67, 0.15);\n",
       "    fill: var(--button-hover-fill-color);\n",
       "  }\n",
       "\n",
       "  .colab-df-quickchart-complete:disabled,\n",
       "  .colab-df-quickchart-complete:disabled:hover {\n",
       "    background-color: var(--disabled-bg-color);\n",
       "    fill: var(--disabled-fill-color);\n",
       "    box-shadow: none;\n",
       "  }\n",
       "\n",
       "  .colab-df-spinner {\n",
       "    border: 2px solid var(--fill-color);\n",
       "    border-color: transparent;\n",
       "    border-bottom-color: var(--fill-color);\n",
       "    animation:\n",
       "      spin 1s steps(1) infinite;\n",
       "  }\n",
       "\n",
       "  @keyframes spin {\n",
       "    0% {\n",
       "      border-color: transparent;\n",
       "      border-bottom-color: var(--fill-color);\n",
       "      border-left-color: var(--fill-color);\n",
       "    }\n",
       "    20% {\n",
       "      border-color: transparent;\n",
       "      border-left-color: var(--fill-color);\n",
       "      border-top-color: var(--fill-color);\n",
       "    }\n",
       "    30% {\n",
       "      border-color: transparent;\n",
       "      border-left-color: var(--fill-color);\n",
       "      border-top-color: var(--fill-color);\n",
       "      border-right-color: var(--fill-color);\n",
       "    }\n",
       "    40% {\n",
       "      border-color: transparent;\n",
       "      border-right-color: var(--fill-color);\n",
       "      border-top-color: var(--fill-color);\n",
       "    }\n",
       "    60% {\n",
       "      border-color: transparent;\n",
       "      border-right-color: var(--fill-color);\n",
       "    }\n",
       "    80% {\n",
       "      border-color: transparent;\n",
       "      border-right-color: var(--fill-color);\n",
       "      border-bottom-color: var(--fill-color);\n",
       "    }\n",
       "    90% {\n",
       "      border-color: transparent;\n",
       "      border-bottom-color: var(--fill-color);\n",
       "    }\n",
       "  }\n",
       "</style>\n",
       "\n",
       "  <script>\n",
       "    async function quickchart(key) {\n",
       "      const quickchartButtonEl =\n",
       "        document.querySelector('#' + key + ' button');\n",
       "      quickchartButtonEl.disabled = true;  // To prevent multiple clicks.\n",
       "      quickchartButtonEl.classList.add('colab-df-spinner');\n",
       "      try {\n",
       "        const charts = await google.colab.kernel.invokeFunction(\n",
       "            'suggestCharts', [key], {});\n",
       "      } catch (error) {\n",
       "        console.error('Error during call to suggestCharts:', error);\n",
       "      }\n",
       "      quickchartButtonEl.classList.remove('colab-df-spinner');\n",
       "      quickchartButtonEl.classList.add('colab-df-quickchart-complete');\n",
       "    }\n",
       "    (() => {\n",
       "      let quickchartButtonEl =\n",
       "        document.querySelector('#df-4b6ec33f-9adc-4912-b37b-cf64e1eb63f2 button');\n",
       "      quickchartButtonEl.style.display =\n",
       "        google.colab.kernel.accessAllowed ? 'block' : 'none';\n",
       "    })();\n",
       "  </script>\n",
       "</div>\n",
       "    </div>\n",
       "  </div>\n"
      ],
      "text/plain": [
       "     Model Optimum Energy Exact Energy Relative Error  R_hat Execution Time\n",
       "0  Model-1         -9.619      -12.785          0.248  1.004           0:56\n",
       "1  Model-2         -7.285      -10.636          0.315  1.001           0:58\n",
       "2  Model-3         -5.477      -10.025          0.454  1.000           0:56\n",
       "3  Model-4        -10.229      -10.025          0.020  1.002           0:40\n",
       "4  Model-5         -5.953       -5.050          0.179  1.001           0:58\n",
       "5  Model-6        -10.635      -10.636          0.000  1.001           0:42"
      ]
     },
     "execution_count": 27,
     "metadata": {},
     "output_type": "execute_result"
    }
   ],
   "source": [
    "data = {'Model': [], 'Optimum Energy': [], 'Exact Energy':[],'Relative Error': [], \"R_hat\": [], 'Execution Time': []}\n",
    "for keys in models.keys():\n",
    "  model = models[keys]\n",
    "  data['Model'].append(keys)\n",
    "  data['Optimum Energy'].append(\"%.3f\" %model['ffn_energy'].mean)\n",
    "  data['Relative Error'].append(\"%.3f\" %model['error'])\n",
    "  data['Exact Energy'].append(\"%.3f\" %model['Egs'])\n",
    "  data['R_hat'].append('%.3f' %model['ffn_energy'].R_hat)\n",
    "  data['Execution Time'].append(model['exec_time'])\n",
    "\n",
    "df = pd.DataFrame(data)\n",
    "df"
   ]
  },
  {
   "cell_type": "code",
   "execution_count": null,
   "metadata": {
    "colab": {
     "base_uri": "https://localhost:8080/"
    },
    "executionInfo": {
     "elapsed": 14,
     "status": "ok",
     "timestamp": 1711545465002,
     "user": {
      "displayName": "Navaneeth Krishnan M",
      "userId": "01159398790914176788"
     },
     "user_tz": -330
    },
    "id": "Kt7mZ6csN8Em",
    "outputId": "1c1c45eb-355e-42ba-deb4-e71e8a253a0d"
   },
   "outputs": [
    {
     "name": "stdout",
     "output_type": "stream",
     "text": [
      "mean relative error 0.20266666666666666\n"
     ]
    }
   ],
   "source": [
    "df['Relative Error'] = df['Relative Error'].astype(float)\n",
    "mean_value = df['Relative Error'].mean()\n",
    "\n",
    "print('mean relative error',mean_value)"
   ]
  },
  {
   "cell_type": "code",
   "execution_count": null,
   "metadata": {
    "colab": {
     "base_uri": "https://localhost:8080/"
    },
    "executionInfo": {
     "elapsed": 11,
     "status": "ok",
     "timestamp": 1711545465002,
     "user": {
      "displayName": "Navaneeth Krishnan M",
      "userId": "01159398790914176788"
     },
     "user_tz": -330
    },
    "id": "5qMAjAdF025f",
    "outputId": "a7ab6f83-2979-46d3-afe5-77c84efc58b7"
   },
   "outputs": [
    {
     "name": "stdout",
     "output_type": "stream",
     "text": [
      "Number of parameters to be optimized 110\n"
     ]
    }
   ],
   "source": [
    "print('Number of parameters to be optimized',vstate.n_parameters)"
   ]
  },
  {
   "cell_type": "markdown",
   "metadata": {
    "id": "gbfwgii0fkrD"
   },
   "source": [
    "**Inferences - NQS**\n",
    "\n",
    "- One layer NQS were tested for various TFI models differing $J$ and $h$ values.\n",
    "- For simulation $\\alpha$ value of NQS was chosen to be 1 and number of parameters to be optimized = 300.\n",
    "- For ferromagnetic systems $(J = 1)$ NQS was found to be performing better with good convergence with iteration.\n",
    "  - The efficiency of convergence can be estimated by using monte carlo convergence estimator $\\hat{R}$.\n",
    "  - For ferromagnetic models $|\\hat{R}| < 1.1$ thus sampling has properly converged.\n",
    "\n",
    "- For antiferromagnetic system, even tough relative error is low,it is found not to be converging properly for some of cases considered $|\\hat{R}| > 1.1$.\n",
    "\n",
    "- On both cases, the models for which spin-spin interaction is less (J value small) NQS performs better with relative error ~ 1%."
   ]
  },
  {
   "cell_type": "markdown",
   "metadata": {},
   "source": [
    "## <a id='toc3_'></a>[Performance analysis of Variational Quantum Algorithms](#toc0_)\n",
    "\n",
    "`RealAmplitudes` circuit is heuristic trial wavefunction that finds application in quantum chemistry and quantum machine learning. This is one of the the simplest ansatz that could be constructed with ``qiskit`` consisting of single qubit `ry` rotation gates and `cx` entantglement blocks.\n",
    "\n",
    "RealAmplitude ansatz for *Number of Spins* N=3, *linear* entanglement & *reps* = 2 is given below"
   ]
  },
  {
   "cell_type": "raw",
   "metadata": {},
   "source": [
    "     ┌──────────┐ ░            ░ ┌──────────┐ ░            ░ ┌──────────┐\n",
    "q_0: ┤ RY(θ[0]) ├─░───■────────░─┤ RY(θ[3]) ├─░───■────────░─┤ RY(θ[6]) ├\n",
    "     ├──────────┤ ░ ┌─┴─┐      ░ ├──────────┤ ░ ┌─┴─┐      ░ ├──────────┤\n",
    "q_1: ┤ RY(θ[1]) ├─░─┤ X ├──■───░─┤ RY(θ[4]) ├─░─┤ X ├──■───░─┤ RY(θ[7]) ├\n",
    "     ├──────────┤ ░ └───┘┌─┴─┐ ░ ├──────────┤ ░ └───┘┌─┴─┐ ░ ├──────────┤\n",
    "q_2: ┤ RY(θ[2]) ├─░──────┤ X ├─░─┤ RY(θ[5]) ├─░──────┤ X ├─░─┤ RY(θ[8]) ├\n",
    "     └──────────┘ ░      └───┘ ░ └──────────┘ ░      └───┘ ░ └──────────┘"
   ]
  },
  {
   "cell_type": "markdown",
   "metadata": {},
   "source": [
    "As we change the value of reps, the number of variational parmaters need to be optimized increases. If reps = $r$ and number of spins = $N$, then, number of paramters to be optimized = $(r+1){N}$"
   ]
  },
  {
   "cell_type": "markdown",
   "metadata": {},
   "source": [
    "## <a id='toc3_1_'></a>[Anti-Ferromagnetic Model](#toc0_)"
   ]
  },
  {
   "cell_type": "code",
   "execution_count": null,
   "metadata": {
    "id": "Kq5qXN3FAUFb"
   },
   "outputs": [],
   "source": [
    "N = 10 # Number of spins\n",
    "\n",
    "models = {'Model-1':{'J':-1,'h': 1}, 'Model-2':{'J':-1,'h': 0.5}, 'Model-3':{'J':-1,'h':0.1},\n",
    "          'Model-4':{'J':-0.1,'h': 1}, 'Model-5':{'J':-0.5, 'h': 0.1},'Model-6':{'J':-0.5, 'h': 1}}\n",
    "\n",
    "Hamiltonian = {key: {} for key in models}\n",
    "\n",
    "# defining hilbert space of spins-1/2\n",
    "hi = nk.hilbert.Spin(s=1/2, N=N)\n",
    "\n",
    "for keys in models.keys():\n",
    "  j = models[keys]['J']\n",
    "  h = models[keys]['h']\n",
    "  H,hpauli = generate_Hamiltonian(N,j,h,hi)\n",
    "  Egs = calc_Energy(H)\n",
    "  Hamiltonian[keys]['H'] = H\n",
    "  Hamiltonian[keys]['hpauli'] = hpauli\n",
    "  models[keys]['Egs'] = Egs"
   ]
  },
  {
   "cell_type": "code",
   "execution_count": null,
   "metadata": {
    "id": "pddKXeogB1hr"
   },
   "outputs": [],
   "source": [
    "# setting up the ansatz\n",
    "\n",
    "backend = BasicSimulator()  # local qasm simulator is used as backend for simulatior\n",
    "reps = 4 # depth of quantum circuit\n",
    "pub = {keys:{} for keys in models.keys()}\n",
    "for keys in models.keys():\n",
    "  hpauli = Hamiltonian[keys]['hpauli']\n",
    "  ansatz = RealAmplitudes(num_qubits=hpauli.num_qubits,insert_barriers=True, entanglement='linear',reps=4)\n",
    "  pm = generate_preset_pass_manager(target=backend.target, optimization_level=3)\n",
    "  ansatz_ibm = pm.run(ansatz)\n",
    "  ham_ibm = hpauli.apply_layout(ansatz_ibm.layout)\n",
    "  pub[keys]['ansatz'] = ansatz_ibm\n",
    "  pub[keys]['observable'] = ham_ibm"
   ]
  },
  {
   "cell_type": "markdown",
   "metadata": {
    "id": "KR8n2-IXvwHn"
   },
   "source": [
    "Here while setting up the ansatz we have chosen `entanglement = linear` which put entangling gate the $i^{th}$ and ${i+1}^{th}$ qubits. It is chosen so as to satisfy the open boundary conditon."
   ]
  },
  {
   "cell_type": "code",
   "execution_count": null,
   "metadata": {
    "id": "NQtJPKFDB-7J"
   },
   "outputs": [],
   "source": [
    "# Cost function for the optimization\n",
    "\n",
    "def cost_func(params, ansatz, hamiltonian, estimator):\n",
    "    energy = estimator.run(ansatz, hamiltonian, parameter_values=params).result().values[0]\n",
    "    return energy\n",
    "\n",
    "\n",
    "# callback to store intermediate values of optimization\n",
    "\n",
    "def build_callback(ansatz, hamiltonian, estimator, callback_dict):\n",
    "    def callback(current_vector):\n",
    "        # Keep track of the number of iterations\n",
    "        callback_dict[\"iters\"] += 1\n",
    "        # Set the prev_vector to the latest one\n",
    "        callback_dict[\"prev_vector\"] = list(current_vector)\n",
    "        # Compute the value of the cost function at the current vector\n",
    "        # This adds an additional function evaluation\n",
    "        current_cost = (\n",
    "            estimator.run(ansatz, hamiltonian, parameter_values=current_vector).result().values[0]\n",
    "        )\n",
    "        callback_dict[\"cost_history\"].append(current_cost)\n",
    "        # Print to screen on single line\n",
    "        sys.stdout.write(\"\\rIters. done: {} [Current cost: {}]\".format(callback_dict[\"iters\"], current_cost))\n",
    "        sys.stdout.flush()  # Flush the output buffer\n",
    "\n",
    "    return callback"
   ]
  },
  {
   "cell_type": "code",
   "execution_count": null,
   "metadata": {
    "id": "dxswhvPmzOVy"
   },
   "outputs": [],
   "source": [
    "options = Options(shots=10000) # setting number of measurements for estimation of observable\n",
    "estimator = BackendEstimator(backend=backend,options=options) # local estimator to calculate expectation value of the observable"
   ]
  },
  {
   "cell_type": "code",
   "execution_count": null,
   "metadata": {
    "colab": {
     "base_uri": "https://localhost:8080/"
    },
    "executionInfo": {
     "elapsed": 930370,
     "status": "ok",
     "timestamp": 1711546398335,
     "user": {
      "displayName": "Navaneeth Krishnan M",
      "userId": "01159398790914176788"
     },
     "user_tz": -330
    },
    "id": "Kcmyvd8vEvP9",
    "outputId": "2a2de67c-87c8-4db5-c6b0-df384e397e75"
   },
   "outputs": [
    {
     "name": "stdout",
     "output_type": "stream",
     "text": [
      "Iters. done: 301 [Current cost: -9.918199999999999]optimized energy and relative error -9.91199 0.22471157343294132\n",
      "Iters. done: 301 [Current cost: -8.6746]optimized energy and relative error -8.641017999999999 0.18753860453806165\n",
      "Iters. done: 301 [Current cost: -9.426680000000001]optimized energy and relative error -9.4398352 0.058372024925807835\n",
      "Iters. done: 301 [Current cost: -8.5327]optimized energy and relative error -8.5088696 0.15123627882631482\n",
      "Iters. done: 301 [Current cost: -4.36714]optimized energy and relative error -4.3863884 0.1314299569062678\n",
      "Iters. done: 301 [Current cost: -7.765499999999999]optimized energy and relative error -7.702952999999999 0.27573904561271123\n"
     ]
    }
   ],
   "source": [
    "np.random.seed(42)\n",
    "for keys in models.keys():\n",
    "  model = models[keys]\n",
    "  callback_dict = {\n",
    "    \"prev_vector\": None,\n",
    "    \"iters\": 0,\n",
    "    \"cost_history\": [],}\n",
    "\n",
    "  # setting the ansatz and the observables\n",
    "  ansatz = pub[keys]['ansatz']\n",
    "  observable = pub[keys]['observable']\n",
    "  # finding optimal variance\n",
    "  num_params = ansatz.num_parameters\n",
    "  x0 = 2 * np.pi *np.random.random(num_params)\n",
    "\n",
    "\n",
    "  callback = build_callback(ansatz,observable, estimator, callback_dict)\n",
    "  st = time.time()\n",
    "  res = minimize(cost_func,x0,\n",
    "    args=(ansatz, observable, estimator),\n",
    "    method=\"cobyla\", # algorithm for optimization is cobyla\n",
    "    callback=callback,\n",
    "    options={'maxiter':niter},)\n",
    "  et = time.time()\n",
    "  min,sec = divmod(et-st,60)\n",
    "\n",
    "  model['data_RAmp'] = callback_dict\n",
    "  model['exec_time'] = f'{int(min)}:{int(sec)}'\n",
    "\n",
    "  # optimal energy calculation\n",
    "  opt_ansatz = ansatz.assign_parameters(parameters = callback_dict['prev_vector'])\n",
    "  res = estimator.run(circuits=[opt_ansatz]*100, observables=[observable]*100)\n",
    "  eopt = res.result().values.mean()\n",
    "  energy_exact = model['Egs']\n",
    "  model['RAmp_energy'] = eopt\n",
    "  error = abs((eopt - energy_exact)/energy_exact)\n",
    "  model['error'] = error\n",
    "  print(\"optimized energy and relative error\",eopt,error)"
   ]
  },
  {
   "cell_type": "code",
   "execution_count": null,
   "metadata": {
    "colab": {
     "base_uri": "https://localhost:8080/",
     "height": 543
    },
    "executionInfo": {
     "elapsed": 2803,
     "status": "ok",
     "timestamp": 1711546401123,
     "user": {
      "displayName": "Navaneeth Krishnan M",
      "userId": "01159398790914176788"
     },
     "user_tz": -330
    },
    "id": "bGeSIjQnCCmS",
    "outputId": "dac48a8a-1ad1-45d9-98b8-0e456053f8c5"
   },
   "outputs": [
    {
     "data": {
      "image/png": "[encoded data removed]",
      "text/plain": [
       "<Figure size 640x480 with 6 Axes>"
      ]
     },
     "metadata": {},
     "output_type": "display_data"
    }
   ],
   "source": [
    "# visualization\n",
    "\n",
    "fig,ax = plt.subplots(3,2,sharey=True,sharex=True)\n",
    "ax = ax.flatten()\n",
    "\n",
    "for i,keys in enumerate(models.keys()):\n",
    "  model = models[keys]\n",
    "  data = model['data_RAmp']\n",
    "  egs = model['Egs']\n",
    "  ax[i].plot(range(data['iters']),data['cost_history'],color='blue')\n",
    "  ax[i].hlines([egs], xmin=0, xmax=niter, color='black',linestyle='--')\n",
    "  J,h,err = model['J'],model['h'],model['error']\n",
    "  ax[i].text(0.50, 0.85, f'J ={J}, h = {h}', transform=ax[i].transAxes,\n",
    "               verticalalignment='top', bbox={'facecolor': 'white', 'alpha': 0.2})\n",
    "  ax[i].set_title(keys)\n",
    "\n",
    "# Create custom legend labels and handles\n",
    "legend_labels = ['RealAmplitude', 'Exact']\n",
    "legend_handles = [plt.Line2D([0], [0], color='orange', linewidth=1, label='RealAmplitude'),\n",
    "                  plt.Line2D([0], [0], color='black', linestyle='--',linewidth=1, label='Exact')]\n",
    "\n",
    "# Create the legend\n",
    "fig.legend(handles=legend_handles, labels=legend_labels, loc='upper center', bbox_to_anchor=(0.5, -0.02),\n",
    "           fancybox=True, shadow=True, ncol=2)\n",
    "\n",
    "fig.text(0.5, 0.00, 'Iterations', ha='center')\n",
    "fig.text(0.00, 0.5, 'Energy', va='center', rotation='vertical')\n",
    "plt.tight_layout()"
   ]
  },
  {
   "cell_type": "code",
   "execution_count": null,
   "metadata": {
    "colab": {
     "base_uri": "https://localhost:8080/",
     "height": 238
    },
    "executionInfo": {
     "elapsed": 23,
     "status": "ok",
     "timestamp": 1711546401124,
     "user": {
      "displayName": "Navaneeth Krishnan M",
      "userId": "01159398790914176788"
     },
     "user_tz": -330
    },
    "id": "D_wWmNBHCZQQ",
    "outputId": "6d887f6f-50b1-44e0-b388-c65fc6a48bd2"
   },
   "outputs": [
    {
     "data": {
      "application/vnd.google.colaboratory.intrinsic+json": {
       "summary": "{\n  \"name\": \"df\",\n  \"rows\": 6,\n  \"fields\": [\n    {\n      \"column\": \"Model\",\n      \"properties\": {\n        \"dtype\": \"string\",\n        \"num_unique_values\": 6,\n        \"samples\": [\n          \"Model-1\",\n          \"Model-2\",\n          \"Model-6\"\n        ],\n        \"semantic_type\": \"\",\n        \"description\": \"\"\n      }\n    },\n    {\n      \"column\": \"Optimum Energy\",\n      \"properties\": {\n        \"dtype\": \"string\",\n        \"num_unique_values\": 6,\n        \"samples\": [\n          \"-9.912\",\n          \"-8.641\",\n          \"-7.703\"\n        ],\n        \"semantic_type\": \"\",\n        \"description\": \"\"\n      }\n    },\n    {\n      \"column\": \"Exact Energy\",\n      \"properties\": {\n        \"dtype\": \"string\",\n        \"num_unique_values\": 4,\n        \"samples\": [\n          \"-10.636\",\n          \"-5.050\",\n          \"-12.785\"\n        ],\n        \"semantic_type\": \"\",\n        \"description\": \"\"\n      }\n    },\n    {\n      \"column\": \"Relative Error\",\n      \"properties\": {\n        \"dtype\": \"string\",\n        \"num_unique_values\": 6,\n        \"samples\": [\n          \"0.225\",\n          \"0.188\",\n          \"0.276\"\n        ],\n        \"semantic_type\": \"\",\n        \"description\": \"\"\n      }\n    },\n    {\n      \"column\": \"Execution Time\",\n      \"properties\": {\n        \"dtype\": \"object\",\n        \"num_unique_values\": 4,\n        \"samples\": [\n          \"2:13\",\n          \"2:12\",\n          \"2:18\"\n        ],\n        \"semantic_type\": \"\",\n        \"description\": \"\"\n      }\n    }\n  ]\n}",
       "type": "dataframe",
       "variable_name": "df"
      },
      "text/html": [
       "\n",
       "  <div id=\"df-7249bcbf-a32e-4add-8b34-b1f9a00e811f\" class=\"colab-df-container\">\n",
       "    <div>\n",
       "<style scoped>\n",
       "    .dataframe tbody tr th:only-of-type {\n",
       "        vertical-align: middle;\n",
       "    }\n",
       "\n",
       "    .dataframe tbody tr th {\n",
       "        vertical-align: top;\n",
       "    }\n",
       "\n",
       "    .dataframe thead th {\n",
       "        text-align: right;\n",
       "    }\n",
       "</style>\n",
       "<table border=\"1\" class=\"dataframe\">\n",
       "  <thead>\n",
       "    <tr style=\"text-align: right;\">\n",
       "      <th></th>\n",
       "      <th>Model</th>\n",
       "      <th>Optimum Energy</th>\n",
       "      <th>Exact Energy</th>\n",
       "      <th>Relative Error</th>\n",
       "      <th>Execution Time</th>\n",
       "    </tr>\n",
       "  </thead>\n",
       "  <tbody>\n",
       "    <tr>\n",
       "      <th>0</th>\n",
       "      <td>Model-1</td>\n",
       "      <td>-9.912</td>\n",
       "      <td>-12.785</td>\n",
       "      <td>0.225</td>\n",
       "      <td>2:18</td>\n",
       "    </tr>\n",
       "    <tr>\n",
       "      <th>1</th>\n",
       "      <td>Model-2</td>\n",
       "      <td>-8.641</td>\n",
       "      <td>-10.636</td>\n",
       "      <td>0.188</td>\n",
       "      <td>2:13</td>\n",
       "    </tr>\n",
       "    <tr>\n",
       "      <th>2</th>\n",
       "      <td>Model-3</td>\n",
       "      <td>-9.440</td>\n",
       "      <td>-10.025</td>\n",
       "      <td>0.058</td>\n",
       "      <td>2:13</td>\n",
       "    </tr>\n",
       "    <tr>\n",
       "      <th>3</th>\n",
       "      <td>Model-4</td>\n",
       "      <td>-8.509</td>\n",
       "      <td>-10.025</td>\n",
       "      <td>0.151</td>\n",
       "      <td>2:14</td>\n",
       "    </tr>\n",
       "    <tr>\n",
       "      <th>4</th>\n",
       "      <td>Model-5</td>\n",
       "      <td>-4.386</td>\n",
       "      <td>-5.050</td>\n",
       "      <td>0.131</td>\n",
       "      <td>2:13</td>\n",
       "    </tr>\n",
       "    <tr>\n",
       "      <th>5</th>\n",
       "      <td>Model-6</td>\n",
       "      <td>-7.703</td>\n",
       "      <td>-10.636</td>\n",
       "      <td>0.276</td>\n",
       "      <td>2:12</td>\n",
       "    </tr>\n",
       "  </tbody>\n",
       "</table>\n",
       "</div>\n",
       "    <div class=\"colab-df-buttons\">\n",
       "\n",
       "  <div class=\"colab-df-container\">\n",
       "    <button class=\"colab-df-convert\" onclick=\"convertToInteractive('df-7249bcbf-a32e-4add-8b34-b1f9a00e811f')\"\n",
       "            title=\"Convert this dataframe to an interactive table.\"\n",
       "            style=\"display:none;\">\n",
       "\n",
       "  <svg xmlns=\"http://www.w3.org/2000/svg\" height=\"24px\" viewBox=\"0 -960 960 960\">\n",
       "    <path d=\"M120-120v-720h720v720H120Zm60-500h600v-160H180v160Zm220 220h160v-160H400v160Zm0 220h160v-160H400v160ZM180-400h160v-160H180v160Zm440 0h160v-160H620v160ZM180-180h160v-160H180v160Zm440 0h160v-160H620v160Z\"/>\n",
       "  </svg>\n",
       "    </button>\n",
       "\n",
       "  <style>\n",
       "    .colab-df-container {\n",
       "      display:flex;\n",
       "      gap: 12px;\n",
       "    }\n",
       "\n",
       "    .colab-df-convert {\n",
       "      background-color: #E8F0FE;\n",
       "      border: none;\n",
       "      border-radius: 50%;\n",
       "      cursor: pointer;\n",
       "      display: none;\n",
       "      fill: #1967D2;\n",
       "      height: 32px;\n",
       "      padding: 0 0 0 0;\n",
       "      width: 32px;\n",
       "    }\n",
       "\n",
       "    .colab-df-convert:hover {\n",
       "      background-color: #E2EBFA;\n",
       "      box-shadow: 0px 1px 2px rgba(60, 64, 67, 0.3), 0px 1px 3px 1px rgba(60, 64, 67, 0.15);\n",
       "      fill: #174EA6;\n",
       "    }\n",
       "\n",
       "    .colab-df-buttons div {\n",
       "      margin-bottom: 4px;\n",
       "    }\n",
       "\n",
       "    [theme=dark] .colab-df-convert {\n",
       "      background-color: #3B4455;\n",
       "      fill: #D2E3FC;\n",
       "    }\n",
       "\n",
       "    [theme=dark] .colab-df-convert:hover {\n",
       "      background-color: #434B5C;\n",
       "      box-shadow: 0px 1px 3px 1px rgba(0, 0, 0, 0.15);\n",
       "      filter: drop-shadow(0px 1px 2px rgba(0, 0, 0, 0.3));\n",
       "      fill: #FFFFFF;\n",
       "    }\n",
       "  </style>\n",
       "\n",
       "    <script>\n",
       "      const buttonEl =\n",
       "        document.querySelector('#df-7249bcbf-a32e-4add-8b34-b1f9a00e811f button.colab-df-convert');\n",
       "      buttonEl.style.display =\n",
       "        google.colab.kernel.accessAllowed ? 'block' : 'none';\n",
       "\n",
       "      async function convertToInteractive(key) {\n",
       "        const element = document.querySelector('#df-7249bcbf-a32e-4add-8b34-b1f9a00e811f');\n",
       "        const dataTable =\n",
       "          await google.colab.kernel.invokeFunction('convertToInteractive',\n",
       "                                                    [key], {});\n",
       "        if (!dataTable) return;\n",
       "\n",
       "        const docLinkHtml = 'Like what you see? Visit the ' +\n",
       "          '<a target=\"_blank\" href=https://colab.research.google.com/notebooks/data_table.ipynb>data table notebook</a>'\n",
       "          + ' to learn more about interactive tables.';\n",
       "        element.innerHTML = '';\n",
       "        dataTable['output_type'] = 'display_data';\n",
       "        await google.colab.output.renderOutput(dataTable, element);\n",
       "        const docLink = document.createElement('div');\n",
       "        docLink.innerHTML = docLinkHtml;\n",
       "        element.appendChild(docLink);\n",
       "      }\n",
       "    </script>\n",
       "  </div>\n",
       "\n",
       "\n",
       "<div id=\"df-ff1528b6-d33d-4e05-97f9-8600980542e9\">\n",
       "  <button class=\"colab-df-quickchart\" onclick=\"quickchart('df-ff1528b6-d33d-4e05-97f9-8600980542e9')\"\n",
       "            title=\"Suggest charts\"\n",
       "            style=\"display:none;\">\n",
       "\n",
       "<svg xmlns=\"http://www.w3.org/2000/svg\" height=\"24px\"viewBox=\"0 0 24 24\"\n",
       "     width=\"24px\">\n",
       "    <g>\n",
       "        <path d=\"M19 3H5c-1.1 0-2 .9-2 2v14c0 1.1.9 2 2 2h14c1.1 0 2-.9 2-2V5c0-1.1-.9-2-2-2zM9 17H7v-7h2v7zm4 0h-2V7h2v10zm4 0h-2v-4h2v4z\"/>\n",
       "    </g>\n",
       "</svg>\n",
       "  </button>\n",
       "\n",
       "<style>\n",
       "  .colab-df-quickchart {\n",
       "      --bg-color: #E8F0FE;\n",
       "      --fill-color: #1967D2;\n",
       "      --hover-bg-color: #E2EBFA;\n",
       "      --hover-fill-color: #174EA6;\n",
       "      --disabled-fill-color: #AAA;\n",
       "      --disabled-bg-color: #DDD;\n",
       "  }\n",
       "\n",
       "  [theme=dark] .colab-df-quickchart {\n",
       "      --bg-color: #3B4455;\n",
       "      --fill-color: #D2E3FC;\n",
       "      --hover-bg-color: #434B5C;\n",
       "      --hover-fill-color: #FFFFFF;\n",
       "      --disabled-bg-color: #3B4455;\n",
       "      --disabled-fill-color: #666;\n",
       "  }\n",
       "\n",
       "  .colab-df-quickchart {\n",
       "    background-color: var(--bg-color);\n",
       "    border: none;\n",
       "    border-radius: 50%;\n",
       "    cursor: pointer;\n",
       "    display: none;\n",
       "    fill: var(--fill-color);\n",
       "    height: 32px;\n",
       "    padding: 0;\n",
       "    width: 32px;\n",
       "  }\n",
       "\n",
       "  .colab-df-quickchart:hover {\n",
       "    background-color: var(--hover-bg-color);\n",
       "    box-shadow: 0 1px 2px rgba(60, 64, 67, 0.3), 0 1px 3px 1px rgba(60, 64, 67, 0.15);\n",
       "    fill: var(--button-hover-fill-color);\n",
       "  }\n",
       "\n",
       "  .colab-df-quickchart-complete:disabled,\n",
       "  .colab-df-quickchart-complete:disabled:hover {\n",
       "    background-color: var(--disabled-bg-color);\n",
       "    fill: var(--disabled-fill-color);\n",
       "    box-shadow: none;\n",
       "  }\n",
       "\n",
       "  .colab-df-spinner {\n",
       "    border: 2px solid var(--fill-color);\n",
       "    border-color: transparent;\n",
       "    border-bottom-color: var(--fill-color);\n",
       "    animation:\n",
       "      spin 1s steps(1) infinite;\n",
       "  }\n",
       "\n",
       "  @keyframes spin {\n",
       "    0% {\n",
       "      border-color: transparent;\n",
       "      border-bottom-color: var(--fill-color);\n",
       "      border-left-color: var(--fill-color);\n",
       "    }\n",
       "    20% {\n",
       "      border-color: transparent;\n",
       "      border-left-color: var(--fill-color);\n",
       "      border-top-color: var(--fill-color);\n",
       "    }\n",
       "    30% {\n",
       "      border-color: transparent;\n",
       "      border-left-color: var(--fill-color);\n",
       "      border-top-color: var(--fill-color);\n",
       "      border-right-color: var(--fill-color);\n",
       "    }\n",
       "    40% {\n",
       "      border-color: transparent;\n",
       "      border-right-color: var(--fill-color);\n",
       "      border-top-color: var(--fill-color);\n",
       "    }\n",
       "    60% {\n",
       "      border-color: transparent;\n",
       "      border-right-color: var(--fill-color);\n",
       "    }\n",
       "    80% {\n",
       "      border-color: transparent;\n",
       "      border-right-color: var(--fill-color);\n",
       "      border-bottom-color: var(--fill-color);\n",
       "    }\n",
       "    90% {\n",
       "      border-color: transparent;\n",
       "      border-bottom-color: var(--fill-color);\n",
       "    }\n",
       "  }\n",
       "</style>\n",
       "\n",
       "  <script>\n",
       "    async function quickchart(key) {\n",
       "      const quickchartButtonEl =\n",
       "        document.querySelector('#' + key + ' button');\n",
       "      quickchartButtonEl.disabled = true;  // To prevent multiple clicks.\n",
       "      quickchartButtonEl.classList.add('colab-df-spinner');\n",
       "      try {\n",
       "        const charts = await google.colab.kernel.invokeFunction(\n",
       "            'suggestCharts', [key], {});\n",
       "      } catch (error) {\n",
       "        console.error('Error during call to suggestCharts:', error);\n",
       "      }\n",
       "      quickchartButtonEl.classList.remove('colab-df-spinner');\n",
       "      quickchartButtonEl.classList.add('colab-df-quickchart-complete');\n",
       "    }\n",
       "    (() => {\n",
       "      let quickchartButtonEl =\n",
       "        document.querySelector('#df-ff1528b6-d33d-4e05-97f9-8600980542e9 button');\n",
       "      quickchartButtonEl.style.display =\n",
       "        google.colab.kernel.accessAllowed ? 'block' : 'none';\n",
       "    })();\n",
       "  </script>\n",
       "</div>\n",
       "    </div>\n",
       "  </div>\n"
      ],
      "text/plain": [
       "     Model Optimum Energy Exact Energy Relative Error Execution Time\n",
       "0  Model-1         -9.912      -12.785          0.225           2:18\n",
       "1  Model-2         -8.641      -10.636          0.188           2:13\n",
       "2  Model-3         -9.440      -10.025          0.058           2:13\n",
       "3  Model-4         -8.509      -10.025          0.151           2:14\n",
       "4  Model-5         -4.386       -5.050          0.131           2:13\n",
       "5  Model-6         -7.703      -10.636          0.276           2:12"
      ]
     },
     "execution_count": 37,
     "metadata": {},
     "output_type": "execute_result"
    }
   ],
   "source": [
    "data = {'Model': [], 'Optimum Energy': [], 'Exact Energy':[],'Relative Error': [], 'Execution Time': []}\n",
    "for keys in models.keys():\n",
    "  model = models[keys]\n",
    "  data['Model'].append(keys)\n",
    "  data['Optimum Energy'].append(\"%.3f\" %model['RAmp_energy'])\n",
    "  data['Relative Error'].append(\"%.3f\" %model['error'])\n",
    "  data['Exact Energy'].append(\"%.3f\" %model['Egs'])\n",
    "  data['Execution Time'].append(model['exec_time'])\n",
    "\n",
    "df = pd.DataFrame(data)\n",
    "df"
   ]
  },
  {
   "cell_type": "code",
   "execution_count": null,
   "metadata": {
    "colab": {
     "base_uri": "https://localhost:8080/"
    },
    "executionInfo": {
     "elapsed": 19,
     "status": "ok",
     "timestamp": 1711546401124,
     "user": {
      "displayName": "Navaneeth Krishnan M",
      "userId": "01159398790914176788"
     },
     "user_tz": -330
    },
    "id": "nwpHrnJoPfkM",
    "outputId": "0b9b0ce1-118f-49c9-c577-a26ddf1163bb"
   },
   "outputs": [
    {
     "name": "stdout",
     "output_type": "stream",
     "text": [
      "mean relative error 0.17149999999999999\n"
     ]
    }
   ],
   "source": [
    "df['Relative Error'] = df['Relative Error'].astype(float)\n",
    "mean_value = df['Relative Error'].mean()\n",
    "\n",
    "print('mean relative error',mean_value)"
   ]
  },
  {
   "cell_type": "code",
   "execution_count": null,
   "metadata": {
    "colab": {
     "base_uri": "https://localhost:8080/"
    },
    "executionInfo": {
     "elapsed": 13,
     "status": "ok",
     "timestamp": 1711546401124,
     "user": {
      "displayName": "Navaneeth Krishnan M",
      "userId": "01159398790914176788"
     },
     "user_tz": -330
    },
    "id": "qoOzrxjmePXQ",
    "outputId": "7d81cce8-5d73-4ddc-d1cc-5c22e04a65af"
   },
   "outputs": [
    {
     "name": "stdout",
     "output_type": "stream",
     "text": [
      "Number of parameters to be optimized 50\n"
     ]
    }
   ],
   "source": [
    "print('Number of parameters to be optimized',ansatz.num_parameters)"
   ]
  },
  {
   "cell_type": "markdown",
   "metadata": {},
   "source": [
    "## <a id='toc3_2_'></a>[Ferromagnetic](#toc0_)"
   ]
  },
  {
   "cell_type": "code",
   "execution_count": null,
   "metadata": {
    "id": "weFbIsTvOT5t"
   },
   "outputs": [],
   "source": [
    "N = 10 # Number of spins\n",
    "\n",
    "models = {'Model-1':{'J':1,'h': 1}, 'Model-2':{'J':1,'h': 0.5}, 'Model-3':{'J': 1,'h': 0.1},\n",
    "          'Model-4':{'J':0.1,'h': 1}, 'Model-5':{'J': 0.5, 'h': 0.1},'Model-6':{'J': 0.5, 'h': 1}}\n",
    "\n",
    "Hamiltonian = {key: {} for key in models}\n",
    "\n",
    "# defining hilbert space of spins-1/2\n",
    "hi = nk.hilbert.Spin(s=1/2, N=N)\n",
    "\n",
    "for keys in models.keys():\n",
    "  j = models[keys]['J']\n",
    "  h = models[keys]['h']\n",
    "  H,hpauli = generate_Hamiltonian(N,j,h,hi)\n",
    "  Egs = calc_Energy(H)\n",
    "  Hamiltonian[keys]['H'] = H\n",
    "  Hamiltonian[keys]['hpauli'] = hpauli\n",
    "  models[keys]['Egs'] = Egs"
   ]
  },
  {
   "cell_type": "code",
   "execution_count": null,
   "metadata": {
    "id": "L4a3L-SdOXrl"
   },
   "outputs": [],
   "source": [
    "# setting up the ansatz\n",
    "\n",
    "backend = BasicSimulator()  # local qasm simulator is used as backend for simulatior\n",
    "pub = {keys:{} for keys in models.keys()}\n",
    "for keys in models.keys():\n",
    "  hpauli = Hamiltonian[keys]['hpauli']\n",
    "  ansatz = RealAmplitudes(num_qubits=hpauli.num_qubits,insert_barriers=True, entanglement='linear',reps=4) # for PBC, the entanglement is taken as closed\n",
    "  pm = generate_preset_pass_manager(target=backend.target, optimization_level=3)\n",
    "  ansatz_ibm = pm.run(ansatz)\n",
    "  ham_ibm = hpauli.apply_layout(ansatz_ibm.layout)\n",
    "  pub[keys]['ansatz'] = ansatz_ibm\n",
    "  pub[keys]['observable'] = ham_ibm"
   ]
  },
  {
   "cell_type": "code",
   "execution_count": null,
   "metadata": {
    "colab": {
     "base_uri": "https://localhost:8080/"
    },
    "executionInfo": {
     "elapsed": 921910,
     "status": "ok",
     "timestamp": 1711547325511,
     "user": {
      "displayName": "Navaneeth Krishnan M",
      "userId": "01159398790914176788"
     },
     "user_tz": -330
    },
    "id": "jGy30MZqOa6r",
    "outputId": "4038e047-2a0e-4c43-c20e-ae4780098cba"
   },
   "outputs": [
    {
     "name": "stdout",
     "output_type": "stream",
     "text": [
      "Iters. done: 301 [Current cost: -11.390799999999999]optimized energy and relative error -11.342637999999999 0.11281024616250475\n",
      "Iters. done: 301 [Current cost: -9.040000000000001]optimized energy and relative error -9.083657999999998 0.14591990728650323\n",
      "Iters. done: 301 [Current cost: -7.32908]optimized energy and relative error -7.3380088 0.2680301910969155\n",
      "Iters. done: 301 [Current cost: -4.8331]optimized energy and relative error -4.8305202000000005 0.5181533513973866\n",
      "Iters. done: 301 [Current cost: -4.293639999999999]optimized energy and relative error -4.3002861999999995 0.1484794711637085\n",
      "Iters. done: 301 [Current cost: -9.414100000000001]optimized energy and relative error -9.418347999999998 0.11445107983501965\n"
     ]
    }
   ],
   "source": [
    "options = Options(shots=10000) # setting number of measurements for estimation of observable\n",
    "estimator = BackendEstimator(backend=backend,options=options)\n",
    "np.random.seed(42)\n",
    "\n",
    "for keys in models.keys():\n",
    "  model = models[keys]\n",
    "  callback_dict = {\n",
    "    \"prev_vector\": None,\n",
    "    \"iters\": 0,\n",
    "    \"cost_history\": [],}\n",
    "\n",
    "  # setting the ansatz and the observables\n",
    "  ansatz = pub[keys]['ansatz']\n",
    "  observable = pub[keys]['observable']\n",
    "  # finding optimal variance\n",
    "  num_params = ansatz.num_parameters\n",
    "  x0 = 2 * np.pi *np.random.random(num_params)\n",
    "\n",
    "\n",
    "  callback = build_callback(ansatz,observable, estimator, callback_dict)\n",
    "  st = time.time()\n",
    "  res = minimize(cost_func,x0,\n",
    "    args=(ansatz, observable, estimator),\n",
    "    method=\"cobyla\",\n",
    "    callback=callback,\n",
    "    options={'maxiter':niter},)\n",
    "  et = time.time()\n",
    "  min,sec = divmod(et-st,60)\n",
    "\n",
    "  model['data_RAmp'] = callback_dict\n",
    "  model['exec_time'] = f'{int(min)}:{int(sec)}'\n",
    "\n",
    "  # optimal energy calculation\n",
    "  opt_ansatz = ansatz.assign_parameters(parameters = callback_dict['prev_vector'])\n",
    "  res = estimator.run(circuits=[opt_ansatz]*100, observables=[observable]*100)\n",
    "  eopt = res.result().values.mean()\n",
    "  energy_exact = model['Egs']\n",
    "  model['RAmp_energy'] = eopt\n",
    "  error = abs((eopt - energy_exact)/energy_exact)\n",
    "  model['error'] = error\n",
    "  print(\"optimized energy and relative error\",eopt,error)"
   ]
  },
  {
   "cell_type": "code",
   "execution_count": null,
   "metadata": {
    "colab": {
     "base_uri": "https://localhost:8080/",
     "height": 543
    },
    "executionInfo": {
     "elapsed": 1451,
     "status": "ok",
     "timestamp": 1711547326945,
     "user": {
      "displayName": "Navaneeth Krishnan M",
      "userId": "01159398790914176788"
     },
     "user_tz": -330
    },
    "id": "v5SIThmuOr3Z",
    "outputId": "79e26d06-b41d-46ec-ce94-154e5c17f020"
   },
   "outputs": [
    {
     "data": {
      "image/png": "[encoded data removed]",
      "text/plain": [
       "<Figure size 640x480 with 6 Axes>"
      ]
     },
     "metadata": {},
     "output_type": "display_data"
    }
   ],
   "source": [
    "# visualization\n",
    "\n",
    "fig,ax = plt.subplots(3,2,sharey=True,sharex=True)\n",
    "ax = ax.flatten()\n",
    "\n",
    "for i,keys in enumerate(models.keys()):\n",
    "  model = models[keys]\n",
    "  data = model['data_RAmp']\n",
    "  egs = model['Egs']\n",
    "  ax[i].plot(range(data['iters']),data['cost_history'],color='blue')\n",
    "  ax[i].hlines([egs], xmin=0, xmax=niter, color='black',linestyle='--')\n",
    "  J,h,err = model['J'],model['h'],model['error']\n",
    "  ax[i].text(0.50, 0.85, f'J ={J}, h = {h}', transform=ax[i].transAxes,\n",
    "               verticalalignment='top', bbox={'facecolor': 'white', 'alpha': 0.2})\n",
    "  ax[i].set_title(keys)\n",
    "\n",
    "# Create custom legend labels and handles\n",
    "legend_labels = ['RealAmplitude', 'Exact']\n",
    "legend_handles = [plt.Line2D([0], [0], color='orange', linewidth=1, label='RealAmplitude'),\n",
    "                  plt.Line2D([0], [0], color='black', linestyle='--',linewidth=1, label='Exact')]\n",
    "\n",
    "# Create the legend\n",
    "fig.legend(handles=legend_handles, labels=legend_labels, loc='upper center', bbox_to_anchor=(0.5, -0.02),\n",
    "           fancybox=True, shadow=True, ncol=2)\n",
    "\n",
    "fig.text(0.5, 0.00, 'Iterations', ha='center')\n",
    "fig.text(0.00, 0.5, 'Energy', va='center', rotation='vertical')\n",
    "plt.tight_layout()"
   ]
  },
  {
   "cell_type": "code",
   "execution_count": null,
   "metadata": {
    "colab": {
     "base_uri": "https://localhost:8080/",
     "height": 238
    },
    "executionInfo": {
     "elapsed": 10,
     "status": "ok",
     "timestamp": 1711547326945,
     "user": {
      "displayName": "Navaneeth Krishnan M",
      "userId": "01159398790914176788"
     },
     "user_tz": -330
    },
    "id": "5BYPrJFROvCy",
    "outputId": "ee935dbf-6e43-4964-ab21-1fec515c37ac"
   },
   "outputs": [
    {
     "data": {
      "application/vnd.google.colaboratory.intrinsic+json": {
       "summary": "{\n  \"name\": \"df\",\n  \"rows\": 6,\n  \"fields\": [\n    {\n      \"column\": \"Model\",\n      \"properties\": {\n        \"dtype\": \"string\",\n        \"num_unique_values\": 6,\n        \"samples\": [\n          \"Model-1\",\n          \"Model-2\",\n          \"Model-6\"\n        ],\n        \"semantic_type\": \"\",\n        \"description\": \"\"\n      }\n    },\n    {\n      \"column\": \"Optimum Energy\",\n      \"properties\": {\n        \"dtype\": \"string\",\n        \"num_unique_values\": 6,\n        \"samples\": [\n          \"-11.343\",\n          \"-9.084\",\n          \"-9.418\"\n        ],\n        \"semantic_type\": \"\",\n        \"description\": \"\"\n      }\n    },\n    {\n      \"column\": \"Exact Energy\",\n      \"properties\": {\n        \"dtype\": \"string\",\n        \"num_unique_values\": 4,\n        \"samples\": [\n          \"-10.636\",\n          \"-5.050\",\n          \"-12.785\"\n        ],\n        \"semantic_type\": \"\",\n        \"description\": \"\"\n      }\n    },\n    {\n      \"column\": \"Relative Error\",\n      \"properties\": {\n        \"dtype\": \"string\",\n        \"num_unique_values\": 6,\n        \"samples\": [\n          \"0.113\",\n          \"0.146\",\n          \"0.114\"\n        ],\n        \"semantic_type\": \"\",\n        \"description\": \"\"\n      }\n    },\n    {\n      \"column\": \"Execution Time\",\n      \"properties\": {\n        \"dtype\": \"object\",\n        \"num_unique_values\": 3,\n        \"samples\": [\n          \"2:11\",\n          \"2:12\",\n          \"2:13\"\n        ],\n        \"semantic_type\": \"\",\n        \"description\": \"\"\n      }\n    }\n  ]\n}",
       "type": "dataframe",
       "variable_name": "df"
      },
      "text/html": [
       "\n",
       "  <div id=\"df-82b928ef-2194-431f-9ac9-302e674ac65f\" class=\"colab-df-container\">\n",
       "    <div>\n",
       "<style scoped>\n",
       "    .dataframe tbody tr th:only-of-type {\n",
       "        vertical-align: middle;\n",
       "    }\n",
       "\n",
       "    .dataframe tbody tr th {\n",
       "        vertical-align: top;\n",
       "    }\n",
       "\n",
       "    .dataframe thead th {\n",
       "        text-align: right;\n",
       "    }\n",
       "</style>\n",
       "<table border=\"1\" class=\"dataframe\">\n",
       "  <thead>\n",
       "    <tr style=\"text-align: right;\">\n",
       "      <th></th>\n",
       "      <th>Model</th>\n",
       "      <th>Optimum Energy</th>\n",
       "      <th>Exact Energy</th>\n",
       "      <th>Relative Error</th>\n",
       "      <th>Execution Time</th>\n",
       "    </tr>\n",
       "  </thead>\n",
       "  <tbody>\n",
       "    <tr>\n",
       "      <th>0</th>\n",
       "      <td>Model-1</td>\n",
       "      <td>-11.343</td>\n",
       "      <td>-12.785</td>\n",
       "      <td>0.113</td>\n",
       "      <td>2:11</td>\n",
       "    </tr>\n",
       "    <tr>\n",
       "      <th>1</th>\n",
       "      <td>Model-2</td>\n",
       "      <td>-9.084</td>\n",
       "      <td>-10.636</td>\n",
       "      <td>0.146</td>\n",
       "      <td>2:12</td>\n",
       "    </tr>\n",
       "    <tr>\n",
       "      <th>2</th>\n",
       "      <td>Model-3</td>\n",
       "      <td>-7.338</td>\n",
       "      <td>-10.025</td>\n",
       "      <td>0.268</td>\n",
       "      <td>2:12</td>\n",
       "    </tr>\n",
       "    <tr>\n",
       "      <th>3</th>\n",
       "      <td>Model-4</td>\n",
       "      <td>-4.831</td>\n",
       "      <td>-10.025</td>\n",
       "      <td>0.518</td>\n",
       "      <td>2:13</td>\n",
       "    </tr>\n",
       "    <tr>\n",
       "      <th>4</th>\n",
       "      <td>Model-5</td>\n",
       "      <td>-4.300</td>\n",
       "      <td>-5.050</td>\n",
       "      <td>0.148</td>\n",
       "      <td>2:13</td>\n",
       "    </tr>\n",
       "    <tr>\n",
       "      <th>5</th>\n",
       "      <td>Model-6</td>\n",
       "      <td>-9.418</td>\n",
       "      <td>-10.636</td>\n",
       "      <td>0.114</td>\n",
       "      <td>2:13</td>\n",
       "    </tr>\n",
       "  </tbody>\n",
       "</table>\n",
       "</div>\n",
       "    <div class=\"colab-df-buttons\">\n",
       "\n",
       "  <div class=\"colab-df-container\">\n",
       "    <button class=\"colab-df-convert\" onclick=\"convertToInteractive('df-82b928ef-2194-431f-9ac9-302e674ac65f')\"\n",
       "            title=\"Convert this dataframe to an interactive table.\"\n",
       "            style=\"display:none;\">\n",
       "\n",
       "  <svg xmlns=\"http://www.w3.org/2000/svg\" height=\"24px\" viewBox=\"0 -960 960 960\">\n",
       "    <path d=\"M120-120v-720h720v720H120Zm60-500h600v-160H180v160Zm220 220h160v-160H400v160Zm0 220h160v-160H400v160ZM180-400h160v-160H180v160Zm440 0h160v-160H620v160ZM180-180h160v-160H180v160Zm440 0h160v-160H620v160Z\"/>\n",
       "  </svg>\n",
       "    </button>\n",
       "\n",
       "  <style>\n",
       "    .colab-df-container {\n",
       "      display:flex;\n",
       "      gap: 12px;\n",
       "    }\n",
       "\n",
       "    .colab-df-convert {\n",
       "      background-color: #E8F0FE;\n",
       "      border: none;\n",
       "      border-radius: 50%;\n",
       "      cursor: pointer;\n",
       "      display: none;\n",
       "      fill: #1967D2;\n",
       "      height: 32px;\n",
       "      padding: 0 0 0 0;\n",
       "      width: 32px;\n",
       "    }\n",
       "\n",
       "    .colab-df-convert:hover {\n",
       "      background-color: #E2EBFA;\n",
       "      box-shadow: 0px 1px 2px rgba(60, 64, 67, 0.3), 0px 1px 3px 1px rgba(60, 64, 67, 0.15);\n",
       "      fill: #174EA6;\n",
       "    }\n",
       "\n",
       "    .colab-df-buttons div {\n",
       "      margin-bottom: 4px;\n",
       "    }\n",
       "\n",
       "    [theme=dark] .colab-df-convert {\n",
       "      background-color: #3B4455;\n",
       "      fill: #D2E3FC;\n",
       "    }\n",
       "\n",
       "    [theme=dark] .colab-df-convert:hover {\n",
       "      background-color: #434B5C;\n",
       "      box-shadow: 0px 1px 3px 1px rgba(0, 0, 0, 0.15);\n",
       "      filter: drop-shadow(0px 1px 2px rgba(0, 0, 0, 0.3));\n",
       "      fill: #FFFFFF;\n",
       "    }\n",
       "  </style>\n",
       "\n",
       "    <script>\n",
       "      const buttonEl =\n",
       "        document.querySelector('#df-82b928ef-2194-431f-9ac9-302e674ac65f button.colab-df-convert');\n",
       "      buttonEl.style.display =\n",
       "        google.colab.kernel.accessAllowed ? 'block' : 'none';\n",
       "\n",
       "      async function convertToInteractive(key) {\n",
       "        const element = document.querySelector('#df-82b928ef-2194-431f-9ac9-302e674ac65f');\n",
       "        const dataTable =\n",
       "          await google.colab.kernel.invokeFunction('convertToInteractive',\n",
       "                                                    [key], {});\n",
       "        if (!dataTable) return;\n",
       "\n",
       "        const docLinkHtml = 'Like what you see? Visit the ' +\n",
       "          '<a target=\"_blank\" href=https://colab.research.google.com/notebooks/data_table.ipynb>data table notebook</a>'\n",
       "          + ' to learn more about interactive tables.';\n",
       "        element.innerHTML = '';\n",
       "        dataTable['output_type'] = 'display_data';\n",
       "        await google.colab.output.renderOutput(dataTable, element);\n",
       "        const docLink = document.createElement('div');\n",
       "        docLink.innerHTML = docLinkHtml;\n",
       "        element.appendChild(docLink);\n",
       "      }\n",
       "    </script>\n",
       "  </div>\n",
       "\n",
       "\n",
       "<div id=\"df-eae832f5-c669-4f10-8dc5-b148f0128d99\">\n",
       "  <button class=\"colab-df-quickchart\" onclick=\"quickchart('df-eae832f5-c669-4f10-8dc5-b148f0128d99')\"\n",
       "            title=\"Suggest charts\"\n",
       "            style=\"display:none;\">\n",
       "\n",
       "<svg xmlns=\"http://www.w3.org/2000/svg\" height=\"24px\"viewBox=\"0 0 24 24\"\n",
       "     width=\"24px\">\n",
       "    <g>\n",
       "        <path d=\"M19 3H5c-1.1 0-2 .9-2 2v14c0 1.1.9 2 2 2h14c1.1 0 2-.9 2-2V5c0-1.1-.9-2-2-2zM9 17H7v-7h2v7zm4 0h-2V7h2v10zm4 0h-2v-4h2v4z\"/>\n",
       "    </g>\n",
       "</svg>\n",
       "  </button>\n",
       "\n",
       "<style>\n",
       "  .colab-df-quickchart {\n",
       "      --bg-color: #E8F0FE;\n",
       "      --fill-color: #1967D2;\n",
       "      --hover-bg-color: #E2EBFA;\n",
       "      --hover-fill-color: #174EA6;\n",
       "      --disabled-fill-color: #AAA;\n",
       "      --disabled-bg-color: #DDD;\n",
       "  }\n",
       "\n",
       "  [theme=dark] .colab-df-quickchart {\n",
       "      --bg-color: #3B4455;\n",
       "      --fill-color: #D2E3FC;\n",
       "      --hover-bg-color: #434B5C;\n",
       "      --hover-fill-color: #FFFFFF;\n",
       "      --disabled-bg-color: #3B4455;\n",
       "      --disabled-fill-color: #666;\n",
       "  }\n",
       "\n",
       "  .colab-df-quickchart {\n",
       "    background-color: var(--bg-color);\n",
       "    border: none;\n",
       "    border-radius: 50%;\n",
       "    cursor: pointer;\n",
       "    display: none;\n",
       "    fill: var(--fill-color);\n",
       "    height: 32px;\n",
       "    padding: 0;\n",
       "    width: 32px;\n",
       "  }\n",
       "\n",
       "  .colab-df-quickchart:hover {\n",
       "    background-color: var(--hover-bg-color);\n",
       "    box-shadow: 0 1px 2px rgba(60, 64, 67, 0.3), 0 1px 3px 1px rgba(60, 64, 67, 0.15);\n",
       "    fill: var(--button-hover-fill-color);\n",
       "  }\n",
       "\n",
       "  .colab-df-quickchart-complete:disabled,\n",
       "  .colab-df-quickchart-complete:disabled:hover {\n",
       "    background-color: var(--disabled-bg-color);\n",
       "    fill: var(--disabled-fill-color);\n",
       "    box-shadow: none;\n",
       "  }\n",
       "\n",
       "  .colab-df-spinner {\n",
       "    border: 2px solid var(--fill-color);\n",
       "    border-color: transparent;\n",
       "    border-bottom-color: var(--fill-color);\n",
       "    animation:\n",
       "      spin 1s steps(1) infinite;\n",
       "  }\n",
       "\n",
       "  @keyframes spin {\n",
       "    0% {\n",
       "      border-color: transparent;\n",
       "      border-bottom-color: var(--fill-color);\n",
       "      border-left-color: var(--fill-color);\n",
       "    }\n",
       "    20% {\n",
       "      border-color: transparent;\n",
       "      border-left-color: var(--fill-color);\n",
       "      border-top-color: var(--fill-color);\n",
       "    }\n",
       "    30% {\n",
       "      border-color: transparent;\n",
       "      border-left-color: var(--fill-color);\n",
       "      border-top-color: var(--fill-color);\n",
       "      border-right-color: var(--fill-color);\n",
       "    }\n",
       "    40% {\n",
       "      border-color: transparent;\n",
       "      border-right-color: var(--fill-color);\n",
       "      border-top-color: var(--fill-color);\n",
       "    }\n",
       "    60% {\n",
       "      border-color: transparent;\n",
       "      border-right-color: var(--fill-color);\n",
       "    }\n",
       "    80% {\n",
       "      border-color: transparent;\n",
       "      border-right-color: var(--fill-color);\n",
       "      border-bottom-color: var(--fill-color);\n",
       "    }\n",
       "    90% {\n",
       "      border-color: transparent;\n",
       "      border-bottom-color: var(--fill-color);\n",
       "    }\n",
       "  }\n",
       "</style>\n",
       "\n",
       "  <script>\n",
       "    async function quickchart(key) {\n",
       "      const quickchartButtonEl =\n",
       "        document.querySelector('#' + key + ' button');\n",
       "      quickchartButtonEl.disabled = true;  // To prevent multiple clicks.\n",
       "      quickchartButtonEl.classList.add('colab-df-spinner');\n",
       "      try {\n",
       "        const charts = await google.colab.kernel.invokeFunction(\n",
       "            'suggestCharts', [key], {});\n",
       "      } catch (error) {\n",
       "        console.error('Error during call to suggestCharts:', error);\n",
       "      }\n",
       "      quickchartButtonEl.classList.remove('colab-df-spinner');\n",
       "      quickchartButtonEl.classList.add('colab-df-quickchart-complete');\n",
       "    }\n",
       "    (() => {\n",
       "      let quickchartButtonEl =\n",
       "        document.querySelector('#df-eae832f5-c669-4f10-8dc5-b148f0128d99 button');\n",
       "      quickchartButtonEl.style.display =\n",
       "        google.colab.kernel.accessAllowed ? 'block' : 'none';\n",
       "    })();\n",
       "  </script>\n",
       "</div>\n",
       "    </div>\n",
       "  </div>\n"
      ],
      "text/plain": [
       "     Model Optimum Energy Exact Energy Relative Error Execution Time\n",
       "0  Model-1        -11.343      -12.785          0.113           2:11\n",
       "1  Model-2         -9.084      -10.636          0.146           2:12\n",
       "2  Model-3         -7.338      -10.025          0.268           2:12\n",
       "3  Model-4         -4.831      -10.025          0.518           2:13\n",
       "4  Model-5         -4.300       -5.050          0.148           2:13\n",
       "5  Model-6         -9.418      -10.636          0.114           2:13"
      ]
     },
     "execution_count": 45,
     "metadata": {},
     "output_type": "execute_result"
    }
   ],
   "source": [
    "data = {'Model': [], 'Optimum Energy': [], 'Exact Energy':[],'Relative Error': [], 'Execution Time': []}\n",
    "for keys in models.keys():\n",
    "  model = models[keys]\n",
    "  data['Model'].append(keys)\n",
    "  data['Optimum Energy'].append(\"%.3f\" %model['RAmp_energy'])\n",
    "  data['Relative Error'].append(\"%.3f\" %model['error'])\n",
    "  data['Exact Energy'].append(\"%.3f\" %model['Egs'])\n",
    "  data['Execution Time'].append(model['exec_time'])\n",
    "\n",
    "df = pd.DataFrame(data)\n",
    "df"
   ]
  },
  {
   "cell_type": "code",
   "execution_count": null,
   "metadata": {
    "colab": {
     "base_uri": "https://localhost:8080/"
    },
    "executionInfo": {
     "elapsed": 8,
     "status": "ok",
     "timestamp": 1711547326945,
     "user": {
      "displayName": "Navaneeth Krishnan M",
      "userId": "01159398790914176788"
     },
     "user_tz": -330
    },
    "id": "3d40H1WtQXCn",
    "outputId": "3e56f1f5-452c-424e-a383-dfb0a1367500"
   },
   "outputs": [
    {
     "name": "stdout",
     "output_type": "stream",
     "text": [
      "mean relative error 0.21783333333333332\n"
     ]
    }
   ],
   "source": [
    "df['Relative Error'] = df['Relative Error'].astype(float)\n",
    "mean_value = df['Relative Error'].mean()\n",
    "\n",
    "print('mean relative error',mean_value)"
   ]
  },
  {
   "cell_type": "code",
   "execution_count": null,
   "metadata": {
    "colab": {
     "base_uri": "https://localhost:8080/"
    },
    "executionInfo": {
     "elapsed": 7,
     "status": "ok",
     "timestamp": 1711547326946,
     "user": {
      "displayName": "Navaneeth Krishnan M",
      "userId": "01159398790914176788"
     },
     "user_tz": -330
    },
    "id": "WdvmN0skemIC",
    "outputId": "75894d64-791c-4ab7-fbde-f17f2dfd4c9a"
   },
   "outputs": [
    {
     "name": "stdout",
     "output_type": "stream",
     "text": [
      "Number of parameters to be optimized 50\n"
     ]
    }
   ],
   "source": [
    "print('Number of parameters to be optimized',ansatz.num_parameters)"
   ]
  },
  {
   "cell_type": "markdown",
   "metadata": {
    "id": "pqnkX77xK7HZ"
   },
   "source": [
    "**Inferences - VQA**\n",
    "\n",
    "*   Both antiferromagnetic model and Ferromagnetic model was tested using RealAmplitude Ansatz.\n",
    "*   Compared to ferromagnetic models, the anti-ferromagnetic models have better convergence from considering only the relative error as a metric.\n",
    "*   Increasing the number of iterations was found to be giving better convergence and less relative error.\n",
    "\n",
    "        Results for antiferomagnetic and ferromagnetic models for number of optimization = 600"
   ]
  },
  {
   "cell_type": "markdown",
   "metadata": {},
   "source": [
    "\n",
    "<img src=\".\\vqa_data\\10spins\\antiferromagnetic\\image_antiferomagnetic_10spins_4reps_600iterations.png\" alt=\"Image 1\" style=\"width: 45%; margin-right: 5px;\" title=\"antiferromagnetic\"> \n",
    "<img src=\".\\vqa_data\\10spins\\ferromagnetic\\image_feromagnetic_10spins_4reps_600iterations.png\" alt=\"Image 2\" title=\"Title 2\" style=\"width: 45%; margin-left: 5px;\">"
   ]
  },
  {
   "cell_type": "markdown",
   "metadata": {},
   "source": [
    "# <a id='toc3_3_'></a>[**Conclusion & Dicussion**](#toc0_)\n",
    "\n",
    "1. Performance One-Layer FFN and RealAmplitude Quantum ansatz was tested on TFI model with 10 spins subjected to open boundary condtions,by varying $J$ and $h$ value."
   ]
  },
  {
   "cell_type": "markdown",
   "metadata": {},
   "source": [
    "2. In both approaches, the optimization algorithm used was different.\n",
    "    *  For NQS, Stochastic gradient descent was used to perform the parmeter updation.\n",
    "    * For VQA, COBYLA was used for parameter updation. It is a gradient free optimization algorithm used in constrained optimization.\n",
    "    * Gradient Based optimization in Qiskit is found to be not working well BackendEstimator, requires full statevector simulators to carryout the optimization.\n",
    "    * In both cases, the number of iterations of the optimization algorithm was fixed **for 300 iterations** unless specified.\n",
    "    * Results from a variational algorithms depends upon optimization algorithms used. This study does not look into the influence of optimization routine on the results."
   ]
  },
  {
   "cell_type": "markdown",
   "metadata": {},
   "source": [
    "3. In terms of relative error, both of approaches have comparable performances (on the basis of mean relative error).\n",
    "    * But NQS seems to face trouble while finding ground state of antiferromagnetic models.\n",
    "    * For most of the models, NQS have $|\\hat{R}| >1.1$ which indicates the non-convergence of the algorithm. \n",
    "    * Trails were conducted by increasing the *number of iterations* and *alpha* values. Results are given below:\n",
    "\n",
    "<p>Results for antiferromagntic model alpha = 1, iterations = 500</p>\n",
    "<img src=\".\\images\\table_antiferromagnetic_10spins_1alpha_500iterations.png\" alt=\"Image 1\" style=\"width: 45%; margin-right: 5px;\" title=\"antiferromagnetic\"> \n",
    "\n",
    "<p>Results for antiferromagntic model alpha = 2, iterations = 300</p>\n",
    "<img src=\".\\images\\table_antiferromagnetic_10spins_2alpha_300iterations.png\" alt=\"Image 2\" title=\"Title 2\" style=\"width: 45%; margin-left: 5px;\">\n",
    "\n",
    "* Increasing number of iterations and alpha value doesnot seems to makes the algorithm converging, and also makes the execution time larger."
   ]
  },
  {
   "cell_type": "markdown",
   "metadata": {},
   "source": [
    "4. VQA have **nearly half the parameters to be optimized compared to NQS still the time taken for the convergence is more than 2 folds**.\n",
    "    * This indicates the immense resource requirement in the case of VQA while running it on a simulator.\n",
    "    * An alternative is to running it on real hardware.\n"
   ]
  },
  {
   "cell_type": "markdown",
   "metadata": {},
   "source": [
    "5. **With increasing number of spins, both variational ansatzes found to be ill-suited for representing the ground state of the system**.\n",
    "\n",
    "<p>NQS: antiferromagntic model (alpha = 1, iterations = 300, N = 15)</p>\n",
    "<img src=\".\\images\\table_antiferromagnet_15spins_1alpha_300iterations.png\" alt=\"Image 1\" style=\"width: 45%; margin-right: 5px;\" title=\"antiferromagnetic\"> \n",
    "\n",
    "<p>RealAmplitudes: antiferromagntic model (reps = 4, iterations = 300, N = 15)</p>\n",
    "<img src=\".\\images\\table_antiferromagnet_15spins_4reps_300iterations.png\" alt=\"Image 1\" style=\"width: 45%; margin-right: 5px;\" title=\"antiferromagnetic\"> \n",
    "\n",
    "- RealAmplitude ansatz was getting better with increase in number of iterations, but on the downside execution time was larger."
   ]
  },
  {
   "cell_type": "code",
   "execution_count": null,
   "metadata": {
    "editable": false
   },
   "outputs": [
    {
     "name": "stdout",
     "output_type": "stream",
     "text": [
      "Architecture:            x86_64\n",
      "  CPU op-mode(s):        32-bit, 64-bit\n",
      "  Address sizes:         46 bits physical, 48 bits virtual\n",
      "  Byte Order:            Little Endian\n",
      "CPU(s):                  2\n",
      "  On-line CPU(s) list:   0,1\n",
      "Vendor ID:               GenuineIntel\n",
      "  Model name:            Intel(R) Xeon(R) CPU @ 2.20GHz\n",
      "    CPU family:          6\n",
      "    Model:               79\n",
      "    Thread(s) per core:  2\n",
      "    Core(s) per socket:  1\n",
      "    Socket(s):           1\n",
      "    Stepping:            0\n",
      "    BogoMIPS:            4399.99\n",
      "    Flags:               fpu vme de pse tsc msr pae mce cx8 apic sep mtrr pge mca cmov pat pse36 clf\n",
      "                         lush mmx fxsr sse sse2 ss ht syscall nx pdpe1gb rdtscp lm constant_tsc rep_\n",
      "                         good nopl xtopology nonstop_tsc cpuid tsc_known_freq pni pclmulqdq ssse3 fm\n",
      "                         a cx16 pcid sse4_1 sse4_2 x2apic movbe popcnt aes xsave avx f16c rdrand hyp\n",
      "                         ervisor lahf_lm abm 3dnowprefetch invpcid_single ssbd ibrs ibpb stibp fsgsb\n",
      "                         ase tsc_adjust bmi1 hle avx2 smep bmi2 erms invpcid rtm rdseed adx smap xsa\n",
      "                         veopt arat md_clear arch_capabilities\n",
      "Virtualization features: \n",
      "  Hypervisor vendor:     KVM\n",
      "  Virtualization type:   full\n",
      "Caches (sum of all):     \n",
      "  L1d:                   32 KiB (1 instance)\n",
      "  L1i:                   32 KiB (1 instance)\n",
      "  L2:                    256 KiB (1 instance)\n",
      "  L3:                    55 MiB (1 instance)\n",
      "NUMA:                    \n",
      "  NUMA node(s):          1\n",
      "  NUMA node0 CPU(s):     0,1\n",
      "Vulnerabilities:         \n",
      "  Gather data sampling:  Not affected\n",
      "  Itlb multihit:         Not affected\n",
      "  L1tf:                  Mitigation; PTE Inversion\n",
      "  Mds:                   Vulnerable; SMT Host state unknown\n",
      "  Meltdown:              Vulnerable\n",
      "  Mmio stale data:       Vulnerable\n",
      "  Retbleed:              Vulnerable\n",
      "  Spec rstack overflow:  Not affected\n",
      "  Spec store bypass:     Vulnerable\n",
      "  Spectre v1:            Vulnerable: __user pointer sanitization and usercopy barriers only; no swap\n",
      "                         gs barriers\n",
      "  Spectre v2:            Vulnerable, IBPB: disabled, STIBP: disabled, PBRSB-eIBRS: Not affected\n",
      "  Srbds:                 Not affected\n",
      "  Tsx async abort:       Vulnerable\n"
     ]
    }
   ],
   "source": [
    "# device specifications\n",
    "!lscpu"
   ]
  },
  {
   "cell_type": "code",
   "execution_count": null,
   "metadata": {
    "editable": false
   },
   "outputs": [
    {
     "data": {
      "application/vnd.google.colaboratory.intrinsic+json": {
       "summary": "{\n  \"name\": \"pd\",\n  \"rows\": 2,\n  \"fields\": [\n    {\n      \"column\": \"modules\",\n      \"properties\": {\n        \"dtype\": \"string\",\n        \"num_unique_values\": 2,\n        \"samples\": [\n          \"netket\",\n          \"qiskit\"\n        ],\n        \"semantic_type\": \"\",\n        \"description\": \"\"\n      }\n    },\n    {\n      \"column\": \"version\",\n      \"properties\": {\n        \"dtype\": \"string\",\n        \"num_unique_values\": 2,\n        \"samples\": [\n          \"3.11.2\",\n          \"1.0.2\"\n        ],\n        \"semantic_type\": \"\",\n        \"description\": \"\"\n      }\n    }\n  ]\n}",
       "type": "dataframe"
      },
      "text/html": [
       "\n",
       "  <div id=\"df-20f0c573-ffee-4205-8dfd-1fd900819da8\" class=\"colab-df-container\">\n",
       "    <div>\n",
       "<style scoped>\n",
       "    .dataframe tbody tr th:only-of-type {\n",
       "        vertical-align: middle;\n",
       "    }\n",
       "\n",
       "    .dataframe tbody tr th {\n",
       "        vertical-align: top;\n",
       "    }\n",
       "\n",
       "    .dataframe thead th {\n",
       "        text-align: right;\n",
       "    }\n",
       "</style>\n",
       "<table border=\"1\" class=\"dataframe\">\n",
       "  <thead>\n",
       "    <tr style=\"text-align: right;\">\n",
       "      <th></th>\n",
       "      <th>modules</th>\n",
       "      <th>version</th>\n",
       "    </tr>\n",
       "  </thead>\n",
       "  <tbody>\n",
       "    <tr>\n",
       "      <th>0</th>\n",
       "      <td>qiskit</td>\n",
       "      <td>1.0.2</td>\n",
       "    </tr>\n",
       "    <tr>\n",
       "      <th>1</th>\n",
       "      <td>netket</td>\n",
       "      <td>3.11.2</td>\n",
       "    </tr>\n",
       "  </tbody>\n",
       "</table>\n",
       "</div>\n",
       "    <div class=\"colab-df-buttons\">\n",
       "\n",
       "  <div class=\"colab-df-container\">\n",
       "    <button class=\"colab-df-convert\" onclick=\"convertToInteractive('df-20f0c573-ffee-4205-8dfd-1fd900819da8')\"\n",
       "            title=\"Convert this dataframe to an interactive table.\"\n",
       "            style=\"display:none;\">\n",
       "\n",
       "  <svg xmlns=\"http://www.w3.org/2000/svg\" height=\"24px\" viewBox=\"0 -960 960 960\">\n",
       "    <path d=\"M120-120v-720h720v720H120Zm60-500h600v-160H180v160Zm220 220h160v-160H400v160Zm0 220h160v-160H400v160ZM180-400h160v-160H180v160Zm440 0h160v-160H620v160ZM180-180h160v-160H180v160Zm440 0h160v-160H620v160Z\"/>\n",
       "  </svg>\n",
       "    </button>\n",
       "\n",
       "  <style>\n",
       "    .colab-df-container {\n",
       "      display:flex;\n",
       "      gap: 12px;\n",
       "    }\n",
       "\n",
       "    .colab-df-convert {\n",
       "      background-color: #E8F0FE;\n",
       "      border: none;\n",
       "      border-radius: 50%;\n",
       "      cursor: pointer;\n",
       "      display: none;\n",
       "      fill: #1967D2;\n",
       "      height: 32px;\n",
       "      padding: 0 0 0 0;\n",
       "      width: 32px;\n",
       "    }\n",
       "\n",
       "    .colab-df-convert:hover {\n",
       "      background-color: #E2EBFA;\n",
       "      box-shadow: 0px 1px 2px rgba(60, 64, 67, 0.3), 0px 1px 3px 1px rgba(60, 64, 67, 0.15);\n",
       "      fill: #174EA6;\n",
       "    }\n",
       "\n",
       "    .colab-df-buttons div {\n",
       "      margin-bottom: 4px;\n",
       "    }\n",
       "\n",
       "    [theme=dark] .colab-df-convert {\n",
       "      background-color: #3B4455;\n",
       "      fill: #D2E3FC;\n",
       "    }\n",
       "\n",
       "    [theme=dark] .colab-df-convert:hover {\n",
       "      background-color: #434B5C;\n",
       "      box-shadow: 0px 1px 3px 1px rgba(0, 0, 0, 0.15);\n",
       "      filter: drop-shadow(0px 1px 2px rgba(0, 0, 0, 0.3));\n",
       "      fill: #FFFFFF;\n",
       "    }\n",
       "  </style>\n",
       "\n",
       "    <script>\n",
       "      const buttonEl =\n",
       "        document.querySelector('#df-20f0c573-ffee-4205-8dfd-1fd900819da8 button.colab-df-convert');\n",
       "      buttonEl.style.display =\n",
       "        google.colab.kernel.accessAllowed ? 'block' : 'none';\n",
       "\n",
       "      async function convertToInteractive(key) {\n",
       "        const element = document.querySelector('#df-20f0c573-ffee-4205-8dfd-1fd900819da8');\n",
       "        const dataTable =\n",
       "          await google.colab.kernel.invokeFunction('convertToInteractive',\n",
       "                                                    [key], {});\n",
       "        if (!dataTable) return;\n",
       "\n",
       "        const docLinkHtml = 'Like what you see? Visit the ' +\n",
       "          '<a target=\"_blank\" href=https://colab.research.google.com/notebooks/data_table.ipynb>data table notebook</a>'\n",
       "          + ' to learn more about interactive tables.';\n",
       "        element.innerHTML = '';\n",
       "        dataTable['output_type'] = 'display_data';\n",
       "        await google.colab.output.renderOutput(dataTable, element);\n",
       "        const docLink = document.createElement('div');\n",
       "        docLink.innerHTML = docLinkHtml;\n",
       "        element.appendChild(docLink);\n",
       "      }\n",
       "    </script>\n",
       "  </div>\n",
       "\n",
       "\n",
       "<div id=\"df-aa657f6b-0bcc-4b47-8604-f61a0e7c4500\">\n",
       "  <button class=\"colab-df-quickchart\" onclick=\"quickchart('df-aa657f6b-0bcc-4b47-8604-f61a0e7c4500')\"\n",
       "            title=\"Suggest charts\"\n",
       "            style=\"display:none;\">\n",
       "\n",
       "<svg xmlns=\"http://www.w3.org/2000/svg\" height=\"24px\"viewBox=\"0 0 24 24\"\n",
       "     width=\"24px\">\n",
       "    <g>\n",
       "        <path d=\"M19 3H5c-1.1 0-2 .9-2 2v14c0 1.1.9 2 2 2h14c1.1 0 2-.9 2-2V5c0-1.1-.9-2-2-2zM9 17H7v-7h2v7zm4 0h-2V7h2v10zm4 0h-2v-4h2v4z\"/>\n",
       "    </g>\n",
       "</svg>\n",
       "  </button>\n",
       "\n",
       "<style>\n",
       "  .colab-df-quickchart {\n",
       "      --bg-color: #E8F0FE;\n",
       "      --fill-color: #1967D2;\n",
       "      --hover-bg-color: #E2EBFA;\n",
       "      --hover-fill-color: #174EA6;\n",
       "      --disabled-fill-color: #AAA;\n",
       "      --disabled-bg-color: #DDD;\n",
       "  }\n",
       "\n",
       "  [theme=dark] .colab-df-quickchart {\n",
       "      --bg-color: #3B4455;\n",
       "      --fill-color: #D2E3FC;\n",
       "      --hover-bg-color: #434B5C;\n",
       "      --hover-fill-color: #FFFFFF;\n",
       "      --disabled-bg-color: #3B4455;\n",
       "      --disabled-fill-color: #666;\n",
       "  }\n",
       "\n",
       "  .colab-df-quickchart {\n",
       "    background-color: var(--bg-color);\n",
       "    border: none;\n",
       "    border-radius: 50%;\n",
       "    cursor: pointer;\n",
       "    display: none;\n",
       "    fill: var(--fill-color);\n",
       "    height: 32px;\n",
       "    padding: 0;\n",
       "    width: 32px;\n",
       "  }\n",
       "\n",
       "  .colab-df-quickchart:hover {\n",
       "    background-color: var(--hover-bg-color);\n",
       "    box-shadow: 0 1px 2px rgba(60, 64, 67, 0.3), 0 1px 3px 1px rgba(60, 64, 67, 0.15);\n",
       "    fill: var(--button-hover-fill-color);\n",
       "  }\n",
       "\n",
       "  .colab-df-quickchart-complete:disabled,\n",
       "  .colab-df-quickchart-complete:disabled:hover {\n",
       "    background-color: var(--disabled-bg-color);\n",
       "    fill: var(--disabled-fill-color);\n",
       "    box-shadow: none;\n",
       "  }\n",
       "\n",
       "  .colab-df-spinner {\n",
       "    border: 2px solid var(--fill-color);\n",
       "    border-color: transparent;\n",
       "    border-bottom-color: var(--fill-color);\n",
       "    animation:\n",
       "      spin 1s steps(1) infinite;\n",
       "  }\n",
       "\n",
       "  @keyframes spin {\n",
       "    0% {\n",
       "      border-color: transparent;\n",
       "      border-bottom-color: var(--fill-color);\n",
       "      border-left-color: var(--fill-color);\n",
       "    }\n",
       "    20% {\n",
       "      border-color: transparent;\n",
       "      border-left-color: var(--fill-color);\n",
       "      border-top-color: var(--fill-color);\n",
       "    }\n",
       "    30% {\n",
       "      border-color: transparent;\n",
       "      border-left-color: var(--fill-color);\n",
       "      border-top-color: var(--fill-color);\n",
       "      border-right-color: var(--fill-color);\n",
       "    }\n",
       "    40% {\n",
       "      border-color: transparent;\n",
       "      border-right-color: var(--fill-color);\n",
       "      border-top-color: var(--fill-color);\n",
       "    }\n",
       "    60% {\n",
       "      border-color: transparent;\n",
       "      border-right-color: var(--fill-color);\n",
       "    }\n",
       "    80% {\n",
       "      border-color: transparent;\n",
       "      border-right-color: var(--fill-color);\n",
       "      border-bottom-color: var(--fill-color);\n",
       "    }\n",
       "    90% {\n",
       "      border-color: transparent;\n",
       "      border-bottom-color: var(--fill-color);\n",
       "    }\n",
       "  }\n",
       "</style>\n",
       "\n",
       "  <script>\n",
       "    async function quickchart(key) {\n",
       "      const quickchartButtonEl =\n",
       "        document.querySelector('#' + key + ' button');\n",
       "      quickchartButtonEl.disabled = true;  // To prevent multiple clicks.\n",
       "      quickchartButtonEl.classList.add('colab-df-spinner');\n",
       "      try {\n",
       "        const charts = await google.colab.kernel.invokeFunction(\n",
       "            'suggestCharts', [key], {});\n",
       "      } catch (error) {\n",
       "        console.error('Error during call to suggestCharts:', error);\n",
       "      }\n",
       "      quickchartButtonEl.classList.remove('colab-df-spinner');\n",
       "      quickchartButtonEl.classList.add('colab-df-quickchart-complete');\n",
       "    }\n",
       "    (() => {\n",
       "      let quickchartButtonEl =\n",
       "        document.querySelector('#df-aa657f6b-0bcc-4b47-8604-f61a0e7c4500 button');\n",
       "      quickchartButtonEl.style.display =\n",
       "        google.colab.kernel.accessAllowed ? 'block' : 'none';\n",
       "    })();\n",
       "  </script>\n",
       "</div>\n",
       "    </div>\n",
       "  </div>\n"
      ],
      "text/plain": [
       "  modules version\n",
       "0  qiskit   1.0.2\n",
       "1  netket  3.11.2"
      ]
     },
     "metadata": {},
     "output_type": "display_data"
    }
   ],
   "source": [
    "# version specifications\n",
    "\n",
    "import netket\n",
    "import qiskit\n",
    "\n",
    "modules = {'modules': ['qiskit','netket'], 'version': [qiskit.__version__,netket.__version__]}\n",
    "pd.DataFrame(modules)"
   ]
  }
 ],
 "metadata": {
  "colab": {
   "authorship_tag": "ABX9TyN87SXSWAFi1XUa3MnY+0Qp",
   "provenance": []
  },
  "kernelspec": {
   "display_name": "Python 3 (ipykernel)",
   "language": "python",
   "name": "python3"
  },
  "language_info": {
   "codemirror_mode": {
    "name": "ipython",
    "version": 3
   },
   "file_extension": ".py",
   "mimetype": "text/x-python",
   "name": "python",
   "nbconvert_exporter": "python",
   "pygments_lexer": "ipython3",
   "version": "3.11.7"
  }
 },
 "nbformat": 4,
 "nbformat_minor": 4
}
