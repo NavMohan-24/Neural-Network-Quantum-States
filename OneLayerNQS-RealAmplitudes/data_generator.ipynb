{
 "cells": [
  {
   "cell_type": "code",
   "execution_count": null,
   "metadata": {},
   "outputs": [],
   "source": [
    "import pickle\n",
    "import pandas as pd\n",
    "import matplotlib.pyplot as plt\n",
    "import numpy as np"
   ]
  },
  {
   "cell_type": "code",
   "execution_count": null,
   "metadata": {},
   "outputs": [],
   "source": [
    "with open('vqa_data/15spins/antiferromagnetic/antiferomagnetic_15spins_4reps_300iterations.pickle','rb') as file:\n",
    "    models = pickle.load(file)"
   ]
  },
  {
   "cell_type": "markdown",
   "metadata": {},
   "source": [
    "## NQS"
   ]
  },
  {
   "cell_type": "code",
   "execution_count": null,
   "metadata": {},
   "outputs": [],
   "source": [
    "N = 15\n",
    "alpha = 1\n",
    "niter = 300"
   ]
  },
  {
   "cell_type": "code",
   "execution_count": null,
   "metadata": {},
   "outputs": [],
   "source": [
    "# visualization -- NQS\n",
    "\n",
    "fig,ax = plt.subplots(3,2,sharey=True,sharex=True)\n",
    "ax = ax.flatten()\n",
    "\n",
    "\n",
    "for i,keys in enumerate(models.keys()):\n",
    "  model = models[keys]\n",
    "  data = model['data_FFN']\n",
    "  egs = model['Egs']\n",
    "  ax[i].plot(data['iters'],data['Mean'],color='orange')\n",
    "  ax[i].hlines([egs], xmin=0, xmax=niter, color='black',linestyle='--')\n",
    "  J,h,err = model['J'],model['h'],model['error']\n",
    "  ax[i].text(0.50, 0.85, f'J ={J}, h = {h}', transform=ax[i].transAxes,\n",
    "               verticalalignment='top', bbox={'facecolor': 'white', 'alpha': 0.2})\n",
    "  ax[i].set_title(keys)\n",
    "\n",
    "# Create custom legend labels and handles\n",
    "legend_labels = ['FFN', 'Exact']\n",
    "legend_handles = [plt.Line2D([0], [0], color='orange', linewidth=1, label='FFN'),\n",
    "                  plt.Line2D([0], [0], color='black', linestyle='--',linewidth=1, label='Exact')]\n",
    "\n",
    "# Create the legend\n",
    "fig.legend(handles=legend_handles, labels=legend_labels, loc='upper center', bbox_to_anchor=(0.5, -0.02),\n",
    "           fancybox=True, shadow=True, ncol=2)\n",
    "\n",
    "fig.text(0.5, 0.00, 'Iterations', ha='center')\n",
    "fig.text(0.00, 0.5, 'Energy', va='center', rotation='vertical')\n",
    "plt.tight_layout()"
   ]
  },
  {
   "cell_type": "code",
   "execution_count": null,
   "metadata": {},
   "outputs": [],
   "source": [
    "data = {'Model': [], 'Optimum Energy': [], 'Exact Energy':[],'Relative Error': [], \"R_hat\": [], 'Execution Time': []}\n",
    "for keys in models.keys():\n",
    "  model = models[keys]\n",
    "  data['Model'].append(keys)\n",
    "  data['Optimum Energy'].append(\"%.3f\" %model['ffn_energy'].mean)\n",
    "  data['Relative Error'].append(\"%.3f\" %model['error'])\n",
    "  data['Exact Energy'].append(\"%.3f\" %model['Egs'])\n",
    "  data['R_hat'].append('%.3f' %model['ffn_energy'].R_hat)\n",
    "  data['Execution Time'].append(model['exec_time'])\n",
    "\n",
    "df = pd.DataFrame(data)\n",
    "df"
   ]
  },
  {
   "cell_type": "code",
   "execution_count": null,
   "metadata": {},
   "outputs": [],
   "source": [
    "with open(f'result_antiferomagnetic_{N}spins_{alpha}alpha_{niter}iterations.pickle','wb') as file:\n",
    "  pickle.dump(data,file)\n",
    "fig.savefig(f'image_antiferomagnetic_{N}spins_{alpha}alpha_{niter}iterations.png',dpi=500)"
   ]
  },
  {
   "cell_type": "markdown",
   "metadata": {},
   "source": [
    "## RealAmplitudes"
   ]
  },
  {
   "cell_type": "code",
   "execution_count": null,
   "metadata": {},
   "outputs": [],
   "source": [
    "N = 15\n",
    "reps = 8\n",
    "niter = 300"
   ]
  },
  {
   "cell_type": "code",
   "execution_count": null,
   "metadata": {},
   "outputs": [],
   "source": [
    "# visualization -- RealAmplitude\n",
    "\n",
    "fig,ax = plt.subplots(3,2,sharey=True,sharex=True)\n",
    "ax = ax.flatten()\n",
    "\n",
    "for i,keys in enumerate(models.keys()):\n",
    "  model = models[keys]\n",
    "  data = model['data_RAmp']\n",
    "  egs = model['Egs']\n",
    "  ax[i].plot(range(data['iters']),data['cost_history'],color='blue')\n",
    "  ax[i].hlines([egs], xmin=0, xmax=niter, color='black',linestyle='--')\n",
    "  J,h,err = model['J'],model['h'],model['error']\n",
    "  ax[i].text(0.50, 0.85, f'J ={J}, h = {h}', transform=ax[i].transAxes,\n",
    "               verticalalignment='top', bbox={'facecolor': 'white', 'alpha': 0.2})\n",
    "  ax[i].set_title(keys)\n",
    "\n",
    "# Create custom legend labels and handles\n",
    "legend_labels = ['RealAmplitude', 'Exact']\n",
    "legend_handles = [plt.Line2D([0], [0], color='orange', linewidth=1, label='RealAmplitude'),\n",
    "                  plt.Line2D([0], [0], color='black', linestyle='--',linewidth=1, label='Exact')]\n",
    "\n",
    "# Create the legend\n",
    "fig.legend(handles=legend_handles, labels=legend_labels, loc='upper center', bbox_to_anchor=(0.5, -0.02),\n",
    "           fancybox=True, shadow=True, ncol=2)\n",
    "\n",
    "fig.text(0.5, 0.00, 'Iterations', ha='center')\n",
    "fig.text(0.00, 0.5, 'Energy', va='center', rotation='vertical')\n",
    "plt.tight_layout()"
   ]
  },
  {
   "cell_type": "code",
   "execution_count": null,
   "metadata": {},
   "outputs": [],
   "source": [
    "data = {'Model': [], 'Optimum Energy': [], 'Exact Energy':[],'Relative Error': [], 'Execution Time': []}\n",
    "for keys in models.keys():\n",
    "  model = models[keys]\n",
    "  data['Model'].append(keys)\n",
    "  data['Optimum Energy'].append(\"%.3f\" %model['RAmp_energy'])\n",
    "  data['Relative Error'].append(\"%.3f\" %model['error'])\n",
    "  data['Exact Energy'].append(\"%.3f\" %model['Egs'])\n",
    "  data['Execution Time'].append(model['exec_time'])\n",
    "\n",
    "df = pd.DataFrame(data)\n",
    "df"
   ]
  },
  {
   "cell_type": "code",
   "execution_count": null,
   "metadata": {},
   "outputs": [],
   "source": [
    "with open(f'result_antiferomagnetic_15spins_2alpha_300iterations.pickle','wb') as file:\n",
    "  pickle.dump(data,file)\n",
    "fig.savefig(f'image_antiferomagnetic_{N}spins_{reps}reps_{niter}iterations.png',dpi=500)"
   ]
  }
 ],
 "metadata": {
  "kernelspec": {
   "display_name": "nqs",
   "language": "python",
   "name": "python3"
  },
  "language_info": {
   "codemirror_mode": {
    "name": "ipython",
    "version": 3
   },
   "file_extension": ".py",
   "mimetype": "text/x-python",
   "name": "python",
   "nbconvert_exporter": "python",
   "pygments_lexer": "ipython3",
   "version": "3.11.7"
  }
 },
 "nbformat": 4,
 "nbformat_minor": 2
}
